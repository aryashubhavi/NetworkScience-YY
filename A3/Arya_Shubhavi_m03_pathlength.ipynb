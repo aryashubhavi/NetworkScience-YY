{
  "cells": [
    {
      "cell_type": "markdown",
      "metadata": {
        "id": "qZYixNXYvPjf"
      },
      "source": [
        "<table class=\"m01-notebook-buttons\" align=\"left\">\n",
        "  <td>\n",
        "    <a target=\"_blank\" href=\"https://colab.research.google.com/github/yy/netsci-course/blob/master/m03-smallworld/shortest_path_length_distribution.ipynb\"><img src=\"https://www.tensorflow.org/images/colab_logo_32px.png\" />Run in Google Colab</a>\n",
        "  </td>\n",
        "  <td>\n",
        "    <a href=\"https://github.com/yy/netsci-course/blob/master/m03-smallworld/shortest_path_length_distribution.ipynb\"><img src=\"https://www.tensorflow.org/images/GitHub-Mark-32px.png\" />View on Github</a>\n",
        "  </td>\n",
        "</table>"
      ]
    },
    {
      "cell_type": "markdown",
      "metadata": {
        "id": "FvWP-BfRvPjh"
      },
      "source": [
        "# Module 3 Assignment\n",
        "\n",
        "Let's calculate and see the distribution of the path lengths of a graph. First we will generate a random graph which we will use for the assignment."
      ]
    },
    {
      "cell_type": "code",
      "execution_count": 2,
      "metadata": {
        "colab": {
          "base_uri": "https://localhost:8080/"
        },
        "id": "NMSXtVgXvPji",
        "outputId": "18da3cee-4fe0-473b-9e03-1b40e69d9f69"
      },
      "outputs": [
        {
          "output_type": "stream",
          "name": "stdout",
          "text": [
            "Graph with 1200 nodes and 5769 edges\n"
          ]
        }
      ],
      "source": [
        "# Use this random seed for submission.\n",
        "import random\n",
        "import numpy as np\n",
        "import networkx as nx\n",
        "import matplotlib.pyplot as plt\n",
        "\n",
        "\n",
        "random.seed(42)        \n",
        "np.random.seed(42)\n",
        "\n",
        "random_graph = nx.erdos_renyi_graph(1200, 0.008, seed=42)\n",
        "print(nx.info(random_graph))"
      ]
    },
    {
      "cell_type": "markdown",
      "metadata": {
        "id": "eJmwKPcyvPjj"
      },
      "source": [
        "## Let's write a function to calculate shortest path lengths\n",
        "\n",
        "**Q**: Given a graph and a source node, we can perform the BFS to calculate all shortest paths from the source to all other nodes in the graph. Can you write this function? We are assuming that the network is undirected and unweighted. Test your function with very small examples. \n",
        "\n",
        "If you really can't do it, just use Networkx's [shortest path length function](https://networkx.github.io/documentation/stable/reference/algorithms/generated/networkx.algorithms.shortest_paths.generic.shortest_path_length.html#networkx.algorithms.shortest_paths.generic.shortest_path_length). \n",
        "\n"
      ]
    },
    {
      "cell_type": "code",
      "execution_count": null,
      "metadata": {
        "colab": {
          "base_uri": "https://localhost:8080/"
        },
        "id": "u_ydAelA50l8",
        "outputId": "6d7fa24b-6a39-4063-d15c-4c48151239c4"
      },
      "outputs": [
        {
          "output_type": "stream",
          "name": "stdout",
          "text": [
            "3\n"
          ]
        }
      ],
      "source": [
        "#with networkx's function\n",
        "shortPathLength = nx.shortest_path_length(random_graph)\n",
        "shortPathLength=dict(shortPathLength)\n",
        "print(shortPathLength[3][14])"
      ]
    },
    {
      "cell_type": "code",
      "execution_count": null,
      "metadata": {
        "id": "g4Q47kg5vPjj"
      },
      "outputs": [],
      "source": [
        "# Your code here\n",
        "def shortest_path_lengths(G, source):\n",
        "  \"\"\"\n",
        "  computes the shortest path between every pair of node from the source in the graph,\n",
        "  and calculates the length of the shortest path.\n",
        "  Returns a dictionary with path length as value\n",
        "  \"\"\"\n",
        "  l = {}\n",
        "  for end in range(len(G.nodes())):\n",
        "    l[(end)] = len(nx.shortest_path(G,source, end)) - 1\n",
        "  return l\n",
        "\n"
      ]
    },
    {
      "cell_type": "code",
      "execution_count": null,
      "metadata": {
        "id": "CJsElcKenv89"
      },
      "outputs": [],
      "source": [
        "# The following should be satisfied if the path lengths are calculated correctly. \n",
        "G = nx.Graph()\n",
        "G.add_edges_from([(0, 1), (0,2), (1, 3), (3, 4), (1,4)])\n",
        "assert shortest_path_lengths(G, 0) == {0: 0, 1: 1, 2: 1, 3: 2, 4: 2} "
      ]
    },
    {
      "cell_type": "markdown",
      "metadata": {
        "id": "MwvW4PEQhj33"
      },
      "source": [
        "\n",
        "**Q**: Next, write a function that converts the results into a [`counter`](https://docs.python.org/3/library/collections.html#collections.Counter). For instance, if the result of `shortest_path_lengths()` was `{0: 0, 1: 1, 2: 1, 3: 2, 4: 2}`, then this function will convert this result and return `Counter({0: 1, 1: 2, 2: 2})` because there was one node (`0`) with distance 0, two nodes (`1` and `2`) with distance 1, and two nodes (`3` and `4`) with dstance 2. "
      ]
    },
    {
      "cell_type": "code",
      "execution_count": null,
      "metadata": {
        "id": "c24vruOimmFN"
      },
      "outputs": [],
      "source": [
        "# Your code here\n",
        "from collections import Counter\n",
        "def count_path_lengths(distances):\n",
        "  c=Counter()\n",
        "  for val in distances.values():\n",
        "    c[val]=list(distances.values()).count(val)\n",
        "  return c\n"
      ]
    },
    {
      "cell_type": "code",
      "execution_count": null,
      "metadata": {
        "id": "6HqDT4s4n0mt"
      },
      "outputs": [],
      "source": [
        "# this should be satisfied. \n",
        "assert count_path_lengths({0: 0, 1: 1, 2: 1, 3: 2, 4: 2}) == Counter({0: 1, 1: 2, 2: 2})"
      ]
    },
    {
      "cell_type": "markdown",
      "metadata": {
        "id": "eqAXaGblvPjj"
      },
      "source": [
        "**Q**: Now we can compute the path length distribution across all pairs of nodes in a network."
      ]
    },
    {
      "cell_type": "code",
      "execution_count": null,
      "metadata": {
        "colab": {
          "base_uri": "https://localhost:8080/"
        },
        "id": "6R_NW2f7vPjj",
        "outputId": "7e6a5f04-8018-44ec-876a-def00664d01d"
      },
      "outputs": [
        {
          "output_type": "stream",
          "name": "stdout",
          "text": [
            "{(0, 1): 1, (0, 2): 1, (0, 3): 2, (0, 4): 2, (1, 2): 2, (1, 3): 1, (1, 4): 1, (2, 3): 3, (2, 4): 3, (3, 4): 1}\n",
            "Counter({1: 5, 2: 3, 3: 2})\n"
          ]
        }
      ],
      "source": [
        "# Your code here\n",
        "def shortest_path_length_distribution(mygraph):\n",
        "  \"\"\"\n",
        "  computes the shortest path between every pair of node from the source in the graph,\n",
        "  and calculates the length of the shortest path.\n",
        "  Returns a dictionary with path length as value\n",
        "  \"\"\"\n",
        "  l = {}\n",
        "  for start in range(len(mygraph.nodes())):\n",
        "    for end in range(start+1, len(mygraph.nodes())):\n",
        "      l[(start, end)] = len(nx.shortest_path(mygraph,start, end)) - 1\n",
        "  return l\n",
        "\n",
        "print(shortest_path_length_distribution(G))\n",
        "print(count_path_lengths(shortest_path_length_distribution(G)))"
      ]
    },
    {
      "cell_type": "markdown",
      "metadata": {
        "id": "3rksfTe3vPjk"
      },
      "source": [
        "## Visualizing the results\n",
        "**Q**: Now that you have a list of the shortest paths for the graph, make a histogram for it. This can be done with `matploblib`'s [`bar()`](https://matplotlib.org/stable/api/_as_gen/matplotlib.pyplot.bar.html) function. The following code snippets may be useful. "
      ]
    },
    {
      "cell_type": "code",
      "execution_count": null,
      "metadata": {
        "colab": {
          "base_uri": "https://localhost:8080/"
        },
        "id": "o8uwvcx0peFD",
        "outputId": "927d0f45-1d3c-44a0-a098-3f66c8c9110e"
      },
      "outputs": [
        {
          "output_type": "execute_result",
          "data": {
            "text/plain": [
              "dict_items([(0, 10), (1, 20), (2, 10), (3, 1)])"
            ]
          },
          "metadata": {},
          "execution_count": 9
        }
      ],
      "source": [
        "a_counter = Counter({0:10, 1:20, 2:10, 3:1})\n",
        "a_counter.items()"
      ]
    },
    {
      "cell_type": "code",
      "execution_count": null,
      "metadata": {
        "id": "9ErDs0wYpr3G",
        "colab": {
          "base_uri": "https://localhost:8080/"
        },
        "outputId": "c567f893-169f-4ed4-86fb-d21b4be2648a"
      },
      "outputs": [
        {
          "output_type": "execute_result",
          "data": {
            "text/plain": [
              "[(0, 1, 2, 3), (10, 20, 10, 1)]"
            ]
          },
          "metadata": {},
          "execution_count": 10
        }
      ],
      "source": [
        "list(zip(*a_counter.items()))"
      ]
    },
    {
      "cell_type": "code",
      "execution_count": null,
      "metadata": {
        "id": "tg48ZnacvPjk"
      },
      "outputs": [],
      "source": [
        "# Your code here\n",
        "import matplotlib.pyplot as plt\n"
      ]
    },
    {
      "cell_type": "code",
      "execution_count": null,
      "metadata": {
        "colab": {
          "base_uri": "https://localhost:8080/",
          "height": 265
        },
        "id": "KxKY3Hc4HDwX",
        "outputId": "4b007295-993a-42b1-ed67-46aea1c6c31f"
      },
      "outputs": [
        {
          "output_type": "display_data",
          "data": {
            "image/png": "[encoded data removed]",
            "text/plain": [
              "<Figure size 432x288 with 1 Axes>"
            ]
          },
          "metadata": {
            "needs_background": "light"
          }
        }
      ],
      "source": [
        "my_path_values = sorted(shortest_path_length_distribution(random_graph).values())\n",
        "pdf, bins, patch = plt.hist(my_path_values, bins=6)"
      ]
    },
    {
      "cell_type": "markdown",
      "metadata": {
        "id": "1Ct7Zr2WqGRC"
      },
      "source": [
        "**Q**: We can now also calculate the average path length of the whole network by averaging the path lengths. "
      ]
    },
    {
      "cell_type": "code",
      "source": [
        "# Your code here\n",
        "my_new_path_values=(sorted(shortest_path_length_distribution(G).values()))"
      ],
      "metadata": {
        "id": "cnZGXbUke7cW"
      },
      "execution_count": null,
      "outputs": []
    },
    {
      "cell_type": "code",
      "execution_count": null,
      "metadata": {
        "colab": {
          "base_uri": "https://localhost:8080/",
          "height": 201
        },
        "id": "zWFWD7XnqLbX",
        "outputId": "da4e55f2-a2dd-47f3-ce34-89c8bed631ce"
      },
      "outputs": [
        {
          "data": {
            "text/plain": [
              "1.7"
            ]
          },
          "execution_count": 12,
          "metadata": {},
          "output_type": "execute_result"
        }
      ],
      "source": [
        "\n",
        "sum(my_new_path_values) / len(my_new_path_values)"
      ]
    },
    {
      "cell_type": "markdown",
      "metadata": {
        "id": "XzgjpnW-ryMd"
      },
      "source": [
        "Can you make it as a function? "
      ]
    },
    {
      "cell_type": "code",
      "execution_count": null,
      "metadata": {
        "colab": {
          "base_uri": "https://localhost:8080/"
        },
        "id": "pJmoIEurvPjl",
        "outputId": "5e46581b-f454-4816-e96a-8abf4c70b59a"
      },
      "outputs": [
        {
          "output_type": "stream",
          "name": "stdout",
          "text": [
            "3.390095913261051\n",
            "1.7\n"
          ]
        }
      ],
      "source": [
        "# Your code here\n",
        "def avg_path_length(path_length_counter):\n",
        "  cnt = 0\n",
        "  sum = 0\n",
        "  for val in path_length_counter:\n",
        "    cnt=cnt+1\n",
        "    sum = sum+val\n",
        "  return sum/cnt\n",
        "\n",
        "print(avg_path_length(my_path_values)) ## for random_graph\n",
        "print(avg_path_length(my_new_path_values)) ## for G\n"
      ]
    },
    {
      "cell_type": "markdown",
      "metadata": {
        "id": "793_3mbNdxwu"
      },
      "source": [
        "## How does it scale?\n",
        "\n",
        "Now go to https://icon.colorado.edu/#!/ and download multiple (at least three) networks that span a range of scale. For instance, pick a couple of networks with ~1000 nodes and then ~10000 nodes, and so on. Be careful with large networks! Calculating shortest paths is an expensive computation and it may take too much time! Stick with not-so-large and not-too-small networks, but do experiment how far you can push. \n",
        "\n",
        "**Q**: Using your code above, calculate the average path length of each network. While doing so, also measure how long it takes to compute the result using either `%%time` or `%%timeit` magics. `%%timeit` runs the code multiple times to get a better estimate. So it may not be suitable for large networks. \n"
      ]
    },
    {
      "cell_type": "code",
      "source": [
        "David = nx.read_gml(\"adjnoun.gml\") # https://networks.skewed.de/net/adjnoun"
      ],
      "metadata": {
        "id": "CJqq-ucdqZ6t"
      },
      "execution_count": 23,
      "outputs": []
    },
    {
      "cell_type": "code",
      "source": [
        "print(nx.info(David))"
      ],
      "metadata": {
        "colab": {
          "base_uri": "https://localhost:8080/"
        },
        "id": "-T9TbEkFq_MR",
        "outputId": "dbcf34bd-df52-4bee-f2d0-751c7c3e3660"
      },
      "execution_count": 24,
      "outputs": [
        {
          "output_type": "stream",
          "name": "stdout",
          "text": [
            "Graph with 112 nodes and 425 edges\n"
          ]
        }
      ]
    },
    {
      "cell_type": "code",
      "execution_count": 17,
      "metadata": {
        "id": "B0DBVRtweeRL"
      },
      "outputs": [],
      "source": [
        "asy = open(\"as1.txt\", \"rb\") # http://snap.stanford.edu/data/as.html\n",
        "AutoSys =nx.read_edgelist(asy, nodetype=int)\n",
        "asy.close()"
      ]
    },
    {
      "cell_type": "code",
      "execution_count": 18,
      "metadata": {
        "id": "4NbwCiBzSSqu",
        "colab": {
          "base_uri": "https://localhost:8080/"
        },
        "outputId": "e90e6123-3a05-4fcb-e97a-21f9bc71b445"
      },
      "outputs": [
        {
          "output_type": "stream",
          "name": "stdout",
          "text": [
            "Graph with 6474 nodes and 13895 edges\n"
          ]
        }
      ],
      "source": [
        "print(nx.info(AutoSys))"
      ]
    },
    {
      "cell_type": "code",
      "source": [
        "cit = open(\"cit-Patents.txt\", \"rb\") #http://snap.stanford.edu/data/cit-Patents.html\n",
        "patents =nx.read_edgelist(cit, nodetype=int)\n",
        "cit.close()"
      ],
      "metadata": {
        "id": "1ejSZwEOXpjY"
      },
      "execution_count": 5,
      "outputs": []
    },
    {
      "cell_type": "code",
      "source": [
        "print(nx.info(patents))"
      ],
      "metadata": {
        "colab": {
          "base_uri": "https://localhost:8080/"
        },
        "id": "7_SdA9nyX8yq",
        "outputId": "02be622d-a408-4023-b777-737406106183"
      },
      "execution_count": 6,
      "outputs": [
        {
          "output_type": "stream",
          "name": "stdout",
          "text": [
            "Graph with 3774768 nodes and 16518948 edges\n"
          ]
        }
      ]
    },
    {
      "cell_type": "code",
      "source": [
        "a = open(\"ca-GrQc.txt\", \"rb\") #http://snap.stanford.edu/data/ca-GrQc.html\n",
        "arxiv =nx.read_edgelist(a, nodetype=int)\n",
        "a.close()"
      ],
      "metadata": {
        "id": "WdWc5XFBQ1aY"
      },
      "execution_count": 44,
      "outputs": []
    },
    {
      "cell_type": "code",
      "source": [
        "print(nx.info(arxiv))"
      ],
      "metadata": {
        "colab": {
          "base_uri": "https://localhost:8080/"
        },
        "id": "bMxSP4XxPC8p",
        "outputId": "7ca3684d-e4c2-48a7-dc4c-b9ca57d3c6d1"
      },
      "execution_count": 46,
      "outputs": [
        {
          "output_type": "stream",
          "name": "stdout",
          "text": [
            "Graph with 5242 nodes and 14496 edges\n"
          ]
        }
      ]
    },
    {
      "cell_type": "code",
      "source": [
        "Football = nx.read_gml(\"football.gml\") # M. Girvan and M. E. J. Newman, \"Community structure in\n",
        "                                #  social and biological networks.\" Proc. Natl. Acad. Sci. USA 99(12), \n",
        "                                #7821-7826 (2002). arxiv:cond-mat/0112110\n",
        "                                #NCAA Football"
      ],
      "metadata": {
        "id": "DeFU2Ms5JPYl"
      },
      "execution_count": 12,
      "outputs": []
    },
    {
      "cell_type": "code",
      "source": [
        "print(nx.info(Football))"
      ],
      "metadata": {
        "colab": {
          "base_uri": "https://localhost:8080/"
        },
        "id": "yWPIKUp_KRvy",
        "outputId": "21e41d14-4579-4dbe-83de-a88efa1bac6b"
      },
      "execution_count": 13,
      "outputs": [
        {
          "output_type": "stream",
          "name": "stdout",
          "text": [
            "Graph with 115 nodes and 613 edges\n"
          ]
        }
      ]
    },
    {
      "cell_type": "code",
      "execution_count": null,
      "metadata": {
        "id": "-2AahtobeeCj"
      },
      "outputs": [],
      "source": [
        "%%timeit\n",
        "sum_value = 0\n",
        "for i in range(1000000):\n",
        "    sum_value += i\n",
        "  "
      ]
    },
    {
      "cell_type": "code",
      "execution_count": 26,
      "metadata": {
        "colab": {
          "base_uri": "https://localhost:8080/"
        },
        "id": "2T98g9Vnsozd",
        "outputId": "2fbb4cdc-ee67-4a00-c454-83b048f288cc"
      },
      "outputs": [
        {
          "output_type": "stream",
          "name": "stdout",
          "text": [
            "CPU times: user 141 ms, sys: 0 ns, total: 141 ms\n",
            "Wall time: 147 ms\n"
          ]
        }
      ],
      "source": [
        "%%time\n",
        "sum_value = 0\n",
        "for i in range(1000000):\n",
        "    sum_value += i\n",
        "\n",
        "\n",
        "David_Average_Path_Length=nx.average_shortest_path_length(David)"
      ]
    },
    {
      "cell_type": "code",
      "source": [
        "print(David_Average_Path_Length)"
      ],
      "metadata": {
        "colab": {
          "base_uri": "https://localhost:8080/"
        },
        "id": "ugYQuRbEmSOa",
        "outputId": "1bc8a211-f9b9-4d7e-d7dc-a6ccb72a771d"
      },
      "execution_count": 27,
      "outputs": [
        {
          "output_type": "stream",
          "name": "stdout",
          "text": [
            "2.5355534105534105\n"
          ]
        }
      ]
    },
    {
      "cell_type": "code",
      "source": [
        "print(nx.is_connected(arxiv))"
      ],
      "metadata": {
        "colab": {
          "base_uri": "https://localhost:8080/"
        },
        "id": "GMTgBa1iPIiw",
        "outputId": "4c22fe6f-2380-439d-bb7e-242239ec4757"
      },
      "execution_count": 65,
      "outputs": [
        {
          "output_type": "stream",
          "name": "stdout",
          "text": [
            "False\n"
          ]
        }
      ]
    },
    {
      "cell_type": "code",
      "source": [
        "print(nx.number_connected_components(arxiv))\n",
        "print(list(nx.connected_components(arxiv)))"
      ],
      "metadata": {
        "colab": {
          "base_uri": "https://localhost:8080/"
        },
        "id": "Fk9jy1MrTA6X",
        "outputId": "cec47886-285a-4a68-8d2b-79d710fc89a0"
      },
      "execution_count": 48,
      "outputs": [
        {
          "output_type": "stream",
          "name": "stdout",
          "text": [
            "355\n",
            "[{8193, 24578, 8195, 16389, 24582, 24583, 8198, 16393, 8200, 24587, 24589, 8206, 24592, 8208, 24593, 8211, 24595, 22, 8215, 8216, 24, 26, 8219, 24601, 27, 16414, 8222, 8224, 16415, 29, 24614, 8231, 24616, 24617, 24615, 24620, 45, 46, 16429, 16433, 8254, 62, 65, 8261, 70, 71, 75, 78, 80, 81, 16469, 8279, 16471, 88, 8280, 16475, 8282, 93, 95, 16482, 16483, 16485, 16486, 8298, 8299, 106, 8301, 16495, 16496, 113, 16498, 114, 8305, 8310, 24696, 8312, 16506, 122, 124, 24699, 16505, 16511, 128, 24705, 16513, 24706, 123, 24708, 135, 16521, 24713, 140, 141, 24718, 8335, 24722, 8340, 24726, 24731, 24734, 16543, 8352, 16545, 163, 164, 165, 16553, 16554, 8365, 8367, 24753, 178, 179, 8369, 16565, 8374, 8375, 8376, 16568, 24762, 183, 185, 8378, 16570, 16575, 16576, 193, 192, 8387, 195, 197, 24765, 199, 8391, 16584, 8386, 200, 16589, 8398, 205, 16590, 24781, 16594, 8403, 214, 16598, 8408, 215, 16607, 16608, 16611, 231, 232, 24814, 238, 16624, 24819, 244, 245, 8437, 8441, 8442, 252, 253, 8446, 16640, 24833, 8449, 24835, 260, 16644, 8448, 16647, 8452, 24841, 16649, 8458, 8457, 24845, 269, 16654, 272, 267, 16659, 8471, 281, 283, 24860, 8475, 8476, 284, 24861, 16674, 16675, 16676, 293, 24870, 299, 24877, 302, 24885, 16694, 8503, 16696, 8505, 312, 8504, 315, 8511, 320, 8513, 321, 16708, 8517, 8520, 8523, 16717, 16718, 16719, 8526, 16722, 339, 16726, 16727, 345, 16729, 16730, 24924, 8541, 351, 352, 8547, 24932, 8549, 358, 16741, 8552, 357, 16743, 16742, 364, 16749, 24942, 24943, 365, 8553, 24939, 24944, 16754, 16755, 16756, 375, 16751, 369, 24955, 379, 16765, 16766, 24959, 24960, 385, 16770, 8579, 380, 17986, 392, 24970, 16779, 396, 8589, 16778, 8592, 400, 8593, 8595, 403, 8596, 408, 409, 414, 16800, 16801, 16803, 8612, 8614, 25006, 8625, 16817, 16819, 8629, 8630, 16831, 8641, 449, 8643, 450, 16837, 16834, 16835, 25034, 25043, 16853, 16858, 8666, 25050, 25053, 8672, 25056, 482, 25057, 25060, 8678, 16872, 8680, 491, 16876, 16877, 25069, 495, 492, 16881, 16882, 500, 25080, 16889, 16888, 16890, 8701, 8702, 25086, 510, 25089, 16899, 16900, 25091, 8710, 25094, 16906, 8715, 523, 25102, 8718, 8721, 25107, 25108, 8726, 25111, 25112, 16921, 8730, 8727, 8732, 25114, 8728, 543, 8737, 546, 16931, 547, 25125, 8742, 16935, 16937, 16940, 16941, 16945, 16946, 25138, 25143, 16953, 570, 16955, 573, 16958, 574, 8768, 25152, 16962, 16963, 580, 25158, 16967, 25159, 8774, 16976, 593, 8786, 8787, 25172, 25176, 25179, 25180, 25181, 8801, 16994, 25189, 615, 8807, 17001, 17006, 8815, 624, 25201, 25204, 25205, 628, 8823, 8824, 17017, 25209, 17019, 17016, 17021, 17022, 25215, 639, 25217, 25219, 25220, 25225, 25228, 25229, 17038, 17039, 25234, 8851, 25235, 25236, 8854, 8857, 8862, 8864, 25250, 25251, 676, 8868, 677, 8871, 8870, 8876, 8877, 8879, 17075, 25271, 8888, 25272, 17082, 17086, 17089, 17090, 25286, 25289, 17099, 715, 23474, 8916, 727, 25304, 17113, 8920, 731, 24568, 8922, 17118, 17116, 8928, 733, 17121, 17114, 25316, 8932, 17124, 25319, 743, 17126, 17127, 17131, 748, 749, 750, 17135, 751, 17134, 17137, 17149, 25346, 17156, 773, 17157, 17158, 8968, 17161, 25354, 778, 8972, 17162, 25358, 25359, 8976, 8973, 8978, 17163, 17172, 17174, 17180, 17182, 25378, 17187, 25379, 17189, 25382, 25383, 17191, 17192, 17194, 811, 25387, 25396, 820, 17207, 824, 9017, 25402, 17208, 9018, 25405, 9020, 9023, 25408, 9025, 834, 832, 836, 9021, 9030, 839, 9027, 25419, 17228, 9037, 17231, 17233, 851, 17235, 853, 855, 17240, 25435, 25436, 17245, 25437, 25439, 17248, 864, 17250, 25442, 17251, 25443, 869, 17249, 25440, 866, 9066, 25449, 880, 882, 9075, 17268, 17266, 9074, 884, 888, 17273, 17274, 9082, 17275, 17277, 894, 25469, 896, 9090, 899, 9092, 17285, 17286, 9093, 25480, 9095, 9098, 9099, 17289, 17290, 17294, 25486, 9103, 17297, 914, 25491, 915, 920, 921, 17306, 17304, 17308, 17309, 930, 9124, 9125, 934, 9127, 9128, 937, 9126, 939, 25516, 9133, 941, 9135, 938, 17330, 17331, 9138, 950, 9143, 25528, 17337, 953, 25526, 9147, 17339, 17341, 9151, 17343, 17345, 25537, 25534, 25540, 25541, 17359, 25553, 25554, 25557, 25562, 25565, 9184, 25569, 17379, 9188, 25572, 17382, 25575, 1000, 17385, 9194, 25571, 17389, 25582, 1006, 17392, 25585, 17394, 17393, 17396, 25589, 1014, 9207, 1008, 9209, 17401, 17403, 17395, 25597, 25598, 1023, 9216, 25601, 9217, 1024, 25599, 1028, 17414, 25607, 1029, 1025, 25610, 17419, 25615, 17426, 1044, 1045, 1048, 9241, 25628, 17439, 9248, 9249, 1058, 17443, 1059, 17440, 9255, 25644, 9264, 1073, 9265, 25648, 1075, 9269, 1078, 1074, 17463, 17465, 9273, 17464, 25660, 17467, 25661, 25663, 17472, 1090, 9283, 25668, 1093, 25674, 1098, 1101, 1104, 1105, 25684, 1109, 9306, 1116, 17501, 17502, 9312, 9313, 25698, 9314, 9316, 1124, 1125, 9325, 25710, 9327, 25718, 25719, 9335, 25721, 9338, 9341, 1149, 1150, 17536, 25729, 17538, 1151, 1153, 1157, 17543, 17546, 9360, 1172, 1174, 17559, 17564, 25758, 17569, 1186, 17575, 9387, 17580, 9389, 17581, 17583, 17584, 25777, 9392, 9391, 17589, 9397, 17590, 25783, 25785, 17592, 25784, 17599, 9408, 1217, 17600, 17603, 9413, 9414, 9417, 9419, 17612, 1229, 1234, 9426, 9432, 9433, 17626, 9439, 1248, 9441, 25827, 25829, 1254, 1258, 9450, 25836, 25839, 1265, 9458, 1267, 9459, 25844, 17655, 25849, 25850, 1278, 1279, 25856, 1280, 17665, 9471, 25854, 17670, 25863, 25866, 9482, 9483, 9485, 25870, 25868, 9488, 1293, 25872, 9491, 17681, 17683, 9486, 25875, 17688, 25877, 17692, 1310, 1311, 9504, 25891, 9511, 25896, 1321, 1322, 1323, 9514, 9517, 25902, 25903, 1327, 25904, 9522, 25910, 25911, 17721, 1339, 25916, 25917, 1341, 1343, 17729, 1347, 17731, 1350, 1353, 17738, 17739, 1356, 25931, 25934, 17740, 25937, 17746, 25940, 17751, 17754, 17755, 25948, 1373, 1375, 9572, 17764, 25959, 1386, 25962, 17778, 25977, 25978, 1403, 25980, 1405, 9597, 1407, 1404, 1408, 17794, 25988, 17797, 16563, 17800, 25996, 17804, 25998, 17807, 17808, 1425, 9616, 1427, 26004, 26005, 1430, 17817, 17818, 17819, 1436, 17821, 9629, 9631, 26013, 17825, 17823, 17824, 26020, 17828, 26021, 9639, 26023, 17827, 9634, 9643, 9647, 9649, 17843, 26038, 26039, 9656, 17848, 17850, 26042, 9659, 26044, 17854, 17859, 26051, 17861, 17864, 26058, 26059, 1488, 26065, 17874, 17875, 26067, 1493, 17878, 1497, 1498, 1499, 17884, 1508, 1511, 26088, 9710, 1519, 1520, 9713, 26098, 9712, 26100, 17911, 9721, 9722, 9723, 17918, 17923, 17924, 9732, 9735, 9736, 1545, 17932, 1550, 26127, 17934, 17937, 26130, 17939, 17944, 1561, 26138, 9755, 1563, 26141, 17950, 9759, 9758, 17953, 9763, 17956, 9764, 9769, 9773, 26157, 26159, 17968, 1588, 26167, 26168, 9785, 26170, 17979, 1595, 1594, 26171, 26173, 17984, 26176, 26178, 17981, 17988, 26181, 17990, 1606, 9800, 17991, 17994, 1611, 1608, 17997, 26190, 1613, 18000, 26193, 18001, 26194, 1620, 26196, 17999, 18008, 18013, 9829, 18030, 18032, 1653, 18037, 1658, 18042, 1662, 18051, 18052, 1667, 9862, 9863, 1672, 1668, 1674, 9867, 1675, 9869, 9870, 18065, 18066, 18067, 1685, 1694, 1696, 9889, 9890, 1699, 9892, 9893, 9895, 18088, 18091, 18094, 1711, 18095, 18097, 9907, 18102, 9913, 18105, 9915, 18109, 1727, 1728, 9922, 9924, 1736, 1738, 18122, 18125, 9937, 9943, 9944, 9946, 18140, 18141, 18143, 18145, 1765, 18152, 18154, 9964, 18158, 18159, 18160, 18161, 1776, 9968, 9974, 1782, 1787, 9980, 9979, 18174, 9983, 9984, 1793, 9986, 9987, 1796, 9988, 18182, 18185, 9993, 18189, 10000, 18193, 18195, 18196, 10004, 1817, 1818, 1822, 1823, 18208, 18209, 18210, 1825, 1829, 10022, 18215, 1832, 10024, 10026, 18217, 1834, 1833, 1838, 1839, 1840, 1841, 18222, 18227, 18225, 10039, 18233, 10041, 18235, 18234, 18237, 1854, 1855, 1857, 1858, 1859, 1860, 18246, 10055, 1862, 18250, 10062, 18256, 1877, 1879, 1880, 18271, 10081, 18275, 18276, 18278, 1896, 1897, 18282, 18283, 18286, 10096, 21546, 1910, 18297, 1914, 1915, 18299, 10113, 10116, 10117, 18314, 10130, 1941, 18331, 18337, 18340, 1958, 1959, 18344, 10153, 1962, 1963, 10158, 1966, 1968, 10162, 18365, 1982, 18366, 1985, 18370, 18373, 18375, 1992, 10183, 10186, 1995, 18379, 1997, 18381, 2001, 2003, 2009, 2010, 18396, 18397, 18398, 18399, 6913, 10211, 18408, 2042, 10235, 2044, 2047, 2049, 10243, 10246, 2055, 10247, 2059, 10251, 18443, 18445, 18447, 18444, 10253, 18453, 18455, 2072, 18457, 2074, 2075, 2076, 10268, 2073, 2080, 2081, 2085, 2087, 18487, 18488, 18489, 2115, 10310, 2124, 18511, 2127, 18517, 2133, 18521, 18522, 18524, 2142, 2143, 2144, 10346, 2155, 18540, 10350, 10351, 18543, 10352, 10354, 2165, 10358, 18549, 18552, 2169, 18557, 18558, 2182, 2184, 10376, 2185, 10381, 2190, 10383, 2193, 18579, 18580, 10388, 10390, 10391, 2200, 18585, 2202, 18586, 18587, 18582, 2203, 18592, 18595, 2212, 18597, 10406, 18600, 10412, 18605, 18612, 18613, 18619, 10427, 18622, 2239, 18623, 18624, 18625, 10435, 2243, 10438, 10439, 2249, 2250, 18633, 18634, 10445, 10446, 2255, 10456, 18648, 10458, 18649, 10463, 18658, 10467, 10468, 18667, 18668, 10476, 10477, 2287, 10478, 18676, 2293, 18677, 2295, 18681, 10490, 18684, 18685, 2303, 10496, 10497, 2306, 2307, 10500, 10501, 2309, 10499, 2316, 10514, 2326, 10519, 10524, 10526, 18719, 18720, 2335, 2338, 18723, 10532, 18724, 2340, 16747, 2341, 2342, 10539, 2348, 2350, 10543, 18736, 2352, 18739, 2356, 10549, 10550, 18741, 10552, 18745, 18742, 10555, 18743, 18746, 18751, 2368, 18757, 18758, 18764, 2385, 2386, 18771, 2388, 18772, 2394, 18778, 10588, 18782, 10590, 18783, 18784, 18788, 2404, 10597, 18790, 10600, 10601, 18791, 2410, 2420, 10615, 10620, 10623, 2443, 10640, 2449, 2450, 2451, 2452, 2457, 2459, 10652, 10655, 10656, 2465, 10657, 2474, 2475, 18866, 18867, 2485, 18870, 2487, 2490, 18875, 10684, 18879, 18880, 18884, 2501, 2503, 2504, 2505, 18894, 2511, 2512, 18899, 2515, 2516, 10711, 18904, 18905, 18909, 18910, 2527, 2526, 10719, 2530, 18913, 2532, 10726, 2535, 2536, 18920, 18924, 18940, 2556, 2558, 18942, 2560, 18941, 18946, 18943, 2559, 2562, 2566, 2563, 2568, 18952, 10762, 10763, 10765, 18971, 18972, 18973, 2591, 2592, 2596, 10791, 18983, 10794, 2607, 10801, 18995, 10805, 2614, 10807, 2613, 2620, 2621, 2622, 2623, 19004, 10819, 19012, 19013, 10822, 2630, 10824, 10825, 19019, 19022, 19023, 10841, 10842, 2654, 2655, 10850, 2661, 19048, 2664, 19051, 19059, 19060, 10871, 10878, 10879, 10880, 10881, 19078, 19080, 19081, 19084, 15191, 10895, 10896, 19089, 19090, 10898, 19093, 2710, 2712, 2713, 10907, 19101, 10910, 19102, 10912, 2720, 19107, 19109, 19110, 10919, 10918, 19111, 19114, 10923, 10925, 10926, 10931, 2741, 2742, 19131, 10942, 2750, 2752, 19140, 19143, 19144, 2761, 19146, 19147, 10956, 19149, 19150, 2770, 2771, 2773, 2774, 19159, 10966, 10969, 19161, 10967, 19164, 19167, 2783, 19168, 2789, 10983, 10986, 19179, 2797, 10990, 10991, 19184, 2803, 10996, 2805, 2806, 11002, 2810, 11011, 19204, 11012, 19206, 11015, 2823, 11017, 19207, 19208, 2826, 19215, 19216, 11026, 19219, 19223, 11032, 11034, 11037, 2846, 2848, 19233, 19234, 2851, 2852, 11047, 19244, 11053, 19246, 11052, 19248, 19247, 2870, 19256, 11066, 2877, 2879, 2883, 11077, 11082, 11093, 11102, 2912, 19297, 2915, 11108, 11109, 19301, 11107, 11112, 2917, 2922, 11113, 11114, 2926, 19313, 11121, 19316, 11125, 2936, 19324, 11132, 19325, 2949, 2950, 11141, 2952, 11148, 19340, 2959, 11152, 19350, 19351, 19355, 19356, 19358, 2980, 2982, 11175, 11182, 2991, 11183, 2993, 11186, 19379, 2997, 19383, 11194, 19387, 3006, 11199, 3007, 19404, 11213, 11223, 3032, 3033, 3034, 11227, 3037, 19423, 11231, 11233, 3048, 11241, 19433, 19434, 3052, 3053, 3055, 3056, 19440, 19442, 3059, 3058, 19445, 19446, 3063, 19443, 19447, 3066, 19450, 3068, 19454, 3073, 19457, 3076, 19462, 19463, 19464, 11275, 19469, 19475, 11284, 3096, 3099, 11293, 19489, 19493, 19495, 3113, 19501, 3119, 11318, 11325, 19517, 3136, 11328, 19525, 19527, 19528, 19544, 19545, 3164, 19551, 3171, 19557, 3173, 3174, 19562, 3178, 11372, 19568, 19569, 3185, 11379, 3188, 19573, 3193, 19578, 3194, 19580, 3197, 19581, 19585, 19586, 3204, 3207, 11400, 11401, 11402, 11403, 3209, 11405, 19603, 19605, 19607, 11416, 19609, 19608, 19612, 19613, 3228, 3231, 11426, 19624, 3243, 11442, 11444, 11445, 11447, 19640, 19641, 19642, 19645, 3265, 11461, 11464, 19657, 11468, 11470, 11472, 3280, 3283, 3286, 3291, 3292, 3293, 19675, 19677, 19678, 11490, 11491, 19682, 11493, 19686, 11495, 19683, 19687, 3310, 11502, 3312, 19697, 3316, 19703, 19705, 3321, 19707, 3323, 19710, 19711, 11522, 11528, 19723, 19724, 3345, 11537, 19738, 19739, 19741, 12066, 11557, 11563, 3372, 11572, 3383, 3386, 3387, 11583, 19781, 11591, 19783, 19784, 19791, 3409, 11602, 3411, 3412, 11604, 11607, 19800, 11609, 3418, 11610, 3420, 19801, 11612, 19807, 19808, 11613, 19806, 19809, 19810, 11621, 3430, 3431, 11617, 11626, 11629, 11630, 11631, 3441, 3442, 11638, 11640, 3449, 3450, 3451, 3452, 3466, 11661, 11664, 11670, 19865, 19870, 19871, 19877, 19881, 3501, 3502, 11696, 19890, 3507, 11700, 3508, 3511, 19895, 19900, 3516, 19903, 11712, 11713, 3524, 19909, 3526, 11719, 3532, 3534, 19922, 19923, 19924, 11733, 11734, 19927, 3547, 3553, 11746, 19939, 19940, 3561, 19945, 19954, 19955, 19957, 19961, 19962, 19964, 19974, 11785, 19978, 3595, 19980, 11788, 3593, 11791, 3594, 11792, 3607, 19992, 11801, 19996, 19997, 11806, 20000, 20001, 3618, 20002, 20004, 11812, 20003, 11815, 20008, 11811, 11820, 11821, 20014, 3630, 3631, 11822, 3632, 3633, 11824, 11829, 20030, 11840, 20033, 11841, 3651, 3652, 11844, 3654, 3655, 20046, 20052, 11861, 20053, 11863, 11865, 20059, 11868, 3677, 20062, 3679, 20064, 3681, 20065, 3683, 11876, 20066, 3685, 3684, 11878, 20078, 11891, 11892, 20086, 20089, 11898, 11899, 11902, 11903, 20100, 3716, 11910, 3719, 3718, 20101, 20106, 3721, 20108, 3725, 11919, 3730, 3731, 20116, 11924, 11926, 20119, 11923, 11925, 20122, 11929, 3743, 20129, 11939, 3752, 11944, 3754, 11951, 20148, 3765, 3766, 20149, 20155, 11964, 3772, 3773, 11967, 11968, 20168, 20169, 11979, 20173, 20174, 20182, 20184, 3804, 20191, 3811, 20196, 3812, 3814, 3819, 3820, 3821, 20207, 12016, 3824, 3825, 3827, 3826, 20215, 20217, 3839, 12032, 3843, 20229, 20230, 3845, 12040, 20231, 3850, 3851, 20236, 12045, 3853, 12043, 3849, 12049, 3858, 12051, 20243, 12053, 12054, 12056, 20248, 20250, 20253, 20255, 3872, 3873, 20257, 3875, 20258, 20260, 12070, 12065, 3876, 3877, 3878, 12074, 20261, 12071, 3890, 12085, 12101, 3909, 3910, 12106, 12107, 3916, 3917, 12110, 20303, 12112, 20305, 3922, 20307, 12118, 3927, 12121, 20315, 20316, 20317, 3937, 12130, 3939, 12135, 3944, 20328, 3946, 20331, 3948, 12141, 8925, 20335, 3953, 3955, 20341, 12149, 20344, 20346, 12155, 3964, 3965, 12157, 12158, 12160, 3967, 12165, 12166, 3977, 3980, 3982, 3983, 3988, 20373, 3990, 20375, 12187, 3996, 3998, 3999, 20383, 4000, 20391, 4013, 4015, 4018, 12212, 4023, 4027, 4032, 4033, 4036, 4037, 20421, 20424, 20427, 12235, 4046, 20432, 20434, 20435, 4052, 12247, 4068, 4069, 12262, 12263, 12260, 12266, 12268, 4080, 4081, 20478, 12287, 20479, 12286, 12291, 4102, 4103, 4104, 12296, 20489, 12302, 20495, 12306, 4115, 12308, 4117, 12311, 12312, 12313, 4125, 12318, 20511, 20513, 20515, 12324, 20517, 4135, 20519, 4138, 4139, 4141, 12334, 20526, 4143, 12337, 4146, 20528, 20532, 20533, 20534, 4148, 20536, 20538, 20547, 4164, 8969, 20550, 20552, 20553, 20554, 12365, 20557, 20558, 12369, 20562, 12370, 4180, 12373, 4182, 20567, 20568, 4183, 20569, 12380, 4189, 20574, 20576, 12386, 4195, 12389, 20587, 20595, 4211, 4213, 12406, 20597, 20599, 12409, 12411, 17122, 12419, 20613, 12422, 12423, 20616, 12425, 20618, 20620, 4241, 4242, 17125, 4247, 4249, 4250, 20635, 20636, 4255, 20641, 4258, 20644, 20645, 12453, 20647, 4263, 4265, 20650, 4261, 4269, 4273, 4275, 20660, 20662, 20663, 12472, 20664, 4283, 20667, 20668, 4284, 12478, 4289, 4290, 4293, 4298, 12491, 20683, 12492, 4302, 4301, 12496, 12498, 12503, 12507, 20702, 4319, 20716, 4351, 4353, 12545, 4354, 12547, 4355, 12552, 12553, 4364, 4371, 4372, 4376, 4377, 4379, 4380, 20765, 4382, 4383, 20772, 20774, 20775, 12587, 20780, 20779, 20782, 20783, 20781, 20787, 12599, 20792, 12606, 4416, 12611, 12612, 20806, 12614, 4422, 4425, 12615, 20808, 4428, 4426, 12618, 4431, 4433, 12627, 4442, 20827, 12637, 4446, 12639, 12640, 12641, 12642, 4451, 12644, 885, 12645, 4458, 12654, 887, 20850, 12659, 12660, 4466, 4468, 20853, 4472, 12665, 4469, 20854, 12664, 12675, 4484, 4483, 12678, 12679, 4488, 4490, 4493, 20879, 12688, 12687, 12691, 20884, 20886, 12695, 12696, 20892, 12701, 20893, 4511, 4512, 4513, 4515, 12709, 20902, 12710, 12712, 25321, 4525, 12720, 12722, 20915, 20924, 12733, 12735, 12739, 4550, 20934, 4552, 12745, 4554, 12742, 4555, 12743, 20942, 12749, 20940, 20947, 20949, 12758, 20952, 20954, 12763, 20956, 4575, 4576, 20959, 4583, 4588, 12781, 12786, 12787, 12788, 12797, 12802, 12803, 12806, 4624, 4625, 21012, 4631, 4632, 21016, 21017, 4635, 4634, 4638, 4639, 4640, 4641, 4642, 21027, 21029, 21030, 21031, 21032, 4650, 12842, 4656, 12849, 12851, 12852, 21048, 21051, 12860, 12861, 4673, 12866, 12865, 12868, 12874, 21075, 12884, 12885, 12887, 4697, 4700, 4702, 4703, 4704, 21089, 4705, 21090, 4708, 4712, 4713, 21100, 21101, 4724, 4727, 12927, 12928, 21125, 4743, 12938, 21130, 4748, 21131, 4750, 4755, 4756, 21142, 4759, 4760, 4765, 21149, 4766, 21152, 21154, 4771, 21156, 4773, 21158, 4775, 12968, 21159, 21162, 12971, 21157, 4781, 4782, 21165, 21167, 21169, 12980, 12981, 4793, 21178, 21177, 4798, 21184, 21190, 21194, 21195, 4814, 21199, 13008, 13010, 21203, 4819, 13013, 4822, 21205, 4825, 13026, 4834, 21220, 13029, 4835, 4836, 13032, 13034, 13035, 13036, 4846, 4847, 13056, 13060, 4868, 4870, 13067, 4875, 4877, 4878, 13068, 4896, 21281, 21287, 13096, 21289, 21293, 21297, 21315, 21316, 21317, 21321, 21322, 21324, 21333, 13142, 4952, 13144, 21341, 4959, 4960, 13153, 4966, 4967, 13164, 4975, 13174, 4983, 13175, 13177, 4988, 4989, 21379, 13190, 13191, 13196, 21389, 21391, 13199, 13205, 21401, 21404, 21407, 21409, 13220, 21432, 21433, 5052, 21436, 21438, 5055, 5056, 5057, 5060, 5061, 5062, 5065, 21450, 5067, 5078, 21466, 13276, 21468, 21469, 5087, 13282, 13283, 13291, 13292, 5107, 21491, 5109, 21495, 21497, 5116, 13310, 13311, 21508, 5125, 13318, 13319, 13320, 13321, 13322, 5131, 5130, 5134, 13328, 5136, 13333, 5143, 13346, 21543, 21544, 13352, 5162, 21547, 5164, 21549, 5166, 21550, 13355, 1026, 21554, 21548, 13364, 5172, 21558, 5175, 21560, 13369, 21562, 13371, 21563, 5181, 5182, 5184, 13384, 13385, 5194, 13387, 13388, 13389, 21583, 21584, 5202, 21587, 21588, 21592, 5209, 5210, 21594, 13404, 5216, 5218, 13411, 21608, 5225, 5227, 21613, 13422, 21614, 5230, 5233, 21615, 21621, 5240, 5241, 21629, 5246, 21630, 21634, 5251, 21635, 21638, 5255, 5259, 5262, 21646, 21650, 5267, 5266, 21653, 5271, 21657, 21658, 21660, 13469, 13470, 21663, 21665, 5287, 13480, 13481, 13482, 13483, 13490, 13493, 5302, 13496, 13497, 13498, 13501, 21695, 21696, 21699, 21705, 21707, 21708, 13520, 21712, 13521, 21718, 13526, 13528, 13529, 21723, 21727, 5346, 5352, 5353, 5355, 5359, 5360, 5361, 5363, 13556, 5365, 5366, 5367, 9208, 21754, 21755, 11611, 5385, 21771, 21772, 21776, 5392, 21778, 21779, 21777, 5395, 5400, 5402, 13597, 5407, 13600, 5408, 5411, 5412, 13604, 21798, 21799, 21800, 5415, 5417, 13614, 21806, 13615, 13616, 13619, 5427, 21811, 13622, 21814, 13624, 21815, 5434, 5435, 21816, 13625, 21823, 21824, 5441, 21825, 13635, 13636, 5444, 21830, 21831, 21832, 5445, 13641, 13647, 13649, 13651, 13653, 21847, 5464, 5465, 21848, 13659, 21853, 5469, 13664, 21860, 21861, 5477, 21864, 5481, 13673, 5483, 21866, 5485, 5488, 13680, 13682, 13683, 13684, 5497, 5503, 5505, 5510, 13702, 13703, 13705, 5519, 13711, 13713, 13714, 13712, 21910, 5529, 5533, 5541, 5542, 21927, 5543, 21929, 21930, 21931, 13740, 5547, 21928, 5555, 13749, 21943, 21944, 5564, 5570, 5575, 5578, 5579, 21968, 5597, 5601, 5602, 5605, 5606, 5608, 13801, 21994, 21995, 21998, 5621, 5622, 13813, 5629, 5631, 5634, 22018, 5636, 13831, 5639, 22023, 13834, 13832, 22028, 13837, 22031, 22032, 13847, 5656, 5655, 5659, 9266, 5661, 22046, 22048, 9267, 22051, 13859, 13862, 5672, 13864, 5674, 5673, 22074, 22075, 5695, 22082, 22083, 5698, 22087, 22088, 5712, 22100, 5717, 22105, 22108, 22109, 5729, 5730, 5731, 22119, 13929, 5739, 5740, 13931, 22129, 22144, 22147, 13955, 22149, 5767, 5769, 5771, 5773, 13966, 13970, 13971, 5787, 22177, 5794, 13989, 13990, 22184, 13992, 13995, 22188, 22189, 22190, 5807, 13999, 5809, 14003, 14004, 5812, 22197, 14007, 14009, 22203, 5825, 5826, 5827, 14020, 5829, 5830, 5835, 5838, 5840, 14033, 22225, 22224, 5843, 14037, 5848, 22233, 5849, 5851, 22235, 22239, 22242, 14051, 22244, 22245, 5862, 22246, 22254, 14067, 22265, 22269, 14078, 14079, 22275, 22278, 14089, 14090, 22284, 5901, 14093, 22285, 22290, 14102, 22299, 22309, 14123, 5934, 14128, 22321, 5938, 22320, 22324, 22336, 5953, 5957, 14153, 14154, 14157, 14165, 22366, 14174, 14176, 22369, 22371, 22372, 14181, 22375, 22376, 5993, 22377, 5995, 22379, 22382, 22393, 6009, 22394, 6010, 22395, 6023, 6024, 6030, 22415, 6031, 6033, 22421, 22423, 6039, 22426, 22433, 22436, 22439, 6056, 6064, 22457, 14265, 6073, 6076, 6077, 22462, 22463, 22464, 6081, 6082, 22466, 6078, 4467, 22476, 6094, 14286, 6095, 22483, 22487, 22489, 22493, 22497, 14308, 22502, 22503, 22504, 22507, 14316, 14317, 14319, 14324, 14325, 22523, 22527, 22528, 14337, 22530, 14340, 14344, 14345, 14346, 6154, 6156, 6158, 14351, 6160, 14357, 25649, 22555, 6172, 22556, 6175, 6176, 14369, 14370, 6179, 14372, 14371, 14373, 6183, 14376, 14377, 6184, 6185, 14379, 14374, 22574, 6190, 14383, 14385, 22577, 14403, 22598, 22599, 22601, 6218, 22603, 6219, 14414, 6222, 22609, 22610, 14419, 22611, 6226, 14424, 22618, 22620, 22621, 14430, 22644, 22645, 6264, 6265, 6266, 6271, 6280, 6288, 6291, 14485, 6301, 6303, 14496, 14497, 14498, 22691, 14500, 22693, 6305, 22696, 22699, 6316, 6317, 14512, 6337, 22722, 22721, 6340, 22725, 22726, 14534, 22727, 22728, 14540, 14541, 22734, 6351, 14542, 22738, 14547, 22741, 14550, 14552, 22744, 22746, 6364, 22748, 14558, 14559, 14562, 22758, 6375, 6376, 6380, 22765, 22770, 6387, 6388, 22771, 6390, 22778, 22779, 22790, 22791, 6408, 14599, 14600, 6411, 22793, 22798, 14606, 6421, 22806, 14615, 14616, 22811, 14619, 14620, 6427, 6431, 22815, 14621, 6434, 14627, 14628, 22826, 6442, 14638, 22831, 22832, 14639, 22834, 22830, 22836, 22837, 22839, 14647, 14648, 6455, 6456, 14652, 22848, 6465, 6468, 14661, 14664, 14667, 6482, 22876, 6494, 22879, 14690, 14691, 22887, 6503, 22888, 14698, 6506, 22890, 22894, 6512, 6513, 22899, 22900, 14707, 14709, 14710, 14711, 22903, 22901, 6524, 6525, 6527, 6529, 6530, 6532, 22917, 6533, 6541, 6543, 6544, 22929, 22937, 14746, 14747, 6556, 6558, 22951, 22953, 22954, 14766, 14767, 6575, 22964, 22966, 6583, 14781, 22975, 22979, 22989, 22993, 6610, 6611, 14807, 14808, 14809, 14818, 6627, 6626, 6629, 6631, 6632, 6635, 6638, 6641, 14834, 6642, 14841, 14843, 23038, 14854, 6666, 6667, 23051, 14864, 14865, 6675, 14869, 14870, 23063, 14872, 23064, 23066, 6700, 6702, 6703, 6707, 23092, 23093, 6708, 23095, 6711, 23096, 23099, 23107, 6724, 23110, 6726, 23114, 14924, 6732, 6737, 6738, 14932, 14933, 6746, 6748, 23134, 23135, 23137, 23138, 14952, 23145, 23146, 23149, 23151, 23153, 6774, 14967, 14969, 14970, 23163, 14972, 23161, 14976, 14982, 14983, 14985, 14991, 23186, 6804, 6806, 6807, 6808, 6810, 15003, 15005, 6813, 6815, 15006, 15007, 15010, 23204, 6823, 6824, 6825, 6828, 6830, 23214, 6832, 23216, 6835, 23219, 6838, 23224, 23225, 23227, 23233, 23240, 23241, 6858, 6857, 6859, 23246, 6863, 23248, 6864, 6867, 6868, 23256, 15066, 6878, 23264, 23266, 23267, 6888, 15081, 15082, 6891, 6892, 6895, 6896, 6904, 6905, 6907, 23293, 6911, 23297, 23298, 23299, 23300, 15108, 23302, 6919, 6920, 6918, 23303, 23304, 23306, 15123, 15125, 6934, 15126, 15127, 6941, 6943, 6944, 15144, 15145, 15148, 15150, 23344, 23346, 6963, 23351, 15159, 15160, 15161, 6971, 23355, 15163, 15166, 15170, 23363, 15172, 15173, 15171, 15175, 15184, 15186, 15189, 23382, 23383, 15192, 23385, 15194, 23387, 15196, 15195, 15198, 7007, 15200, 15197, 23394, 7011, 7010, 15205, 7014, 7015, 7013, 15209, 15206, 23403, 15214, 7023, 7024, 23409, 7025, 15217, 23412, 23417, 23418, 23419, 23420, 7038, 7039, 23423, 7042, 15235, 23429, 7045, 7046, 7050, 15244, 15245, 7053, 15247, 23441, 15250, 15251, 15252, 15253, 15258, 23452, 7069, 23454, 7071, 7072, 23458, 23462, 23464, 23470, 7087, 7088, 7090, 7091, 23476, 23477, 7093, 7095, 7096, 23481, 7098, 7094, 23485, 7103, 7104, 7105, 23488, 23490, 15300, 15301, 23492, 15305, 15306, 15311, 23503, 23506, 15316, 23509, 7125, 23511, 7126, 15321, 23514, 23513, 15325, 15329, 23529, 7154, 15353, 15357, 23552, 23555, 15365, 23558, 15366, 23559, 15372, 7188, 15382, 15383, 23576, 23577, 15384, 7197, 15395, 7204, 7206, 15399, 15400, 7209, 15409, 15413, 15414, 15416, 15418, 15419, 15420, 23614, 23616, 23620, 23622, 23623, 15435, 23628, 7245, 7246, 7247, 23637, 15455, 23647, 23649, 7264, 15457, 23653, 7277, 7278, 23665, 7281, 15477, 15478, 15479, 23673, 23674, 23681, 23683, 23686, 15495, 23689, 9593, 7307, 23693, 7309, 7311, 7317, 23708, 7324, 15516, 23712, 23713, 23714, 15523, 15524, 15528, 23721, 23720, 23723, 23727, 15538, 23730, 7350, 7355, 7357, 23741, 15552, 15559, 23751, 15562, 23758, 15568, 15571, 7383, 7384, 23770, 7386, 15580, 15582, 23775, 15585, 15589, 23786, 15596, 15600, 15608, 23805, 23806, 15614, 15616, 23809, 15617, 23810, 15623, 15625, 15626, 7442, 7444, 7446, 7447, 7449, 7450, 7452, 23836, 23841, 7459, 7463, 15657, 15659, 23855, 15663, 15664, 15666, 15667, 15665, 15669, 23858, 23863, 23864, 7481, 23866, 7475, 23859, 7485, 23870, 15678, 15682, 15683, 15685, 15687, 23880, 23883, 7504, 7506, 7510, 7511, 23896, 15708, 23901, 7522, 23907, 7524, 15714, 15718, 23910, 15715, 23909, 7525, 23912, 15717, 7533, 23915, 23918, 23920, 7541, 7546, 23939, 23943, 23944, 23945, 7563, 23950, 7573, 15770, 7578, 7579, 15774, 23967, 23968, 7584, 7586, 15784, 7592, 15786, 7594, 7595, 7597, 15793, 23986, 7601, 23989, 23991, 15799, 15802, 15805, 7615, 24001, 24002, 15814, 15816, 24009, 7625, 15821, 7635, 4774, 15829, 7638, 24023, 24029, 7645, 7648, 24032, 7650, 24034, 15846, 15850, 24057, 24060, 15880, 7689, 15882, 7695, 15891, 15898, 7712, 24097, 15905, 7715, 7716, 7717, 15907, 15911, 24101, 7719, 15912, 15913, 7725, 24110, 15917, 15920, 24113, 24114, 7726, 7727, 24121, 24122, 15931, 15933, 24126, 15935, 24129, 15938, 15941, 15942, 15943, 15947, 24140, 15951, 24148, 24149, 15959, 15960, 15961, 7769, 7768, 7772, 7774, 24160, 15971, 15972, 24163, 15974, 15973, 15977, 24174, 24183, 7801, 7802, 15998, 15999, 7811, 16006, 24199, 16010, 24203, 24204, 16011, 16013, 7824, 24210, 16020, 7829, 16022, 24219, 24220, 16032, 7844, 16039, 16041, 16042, 7853, 7854, 7855, 24240, 7857, 7863, 16056, 24248, 24252, 16065, 16067, 16068, 16070, 7878, 7882, 7883, 7885, 24270, 24271, 16083, 16084, 7893, 16087, 24280, 7895, 7899, 16091, 16101, 24293, 24295, 7911, 16102, 16106, 24294, 16108, 16107, 16110, 16115, 7926, 16123, 7935, 16128, 16131, 24330, 24332, 7956, 16148, 24340, 7959, 24341, 16154, 16155, 16159, 16162, 16174, 7985, 16177, 24371, 24372, 7991, 7999, 8000, 24385, 24398, 16210, 24402, 16213, 16216, 24412, 8031, 16225, 16227, 8037, 16230, 16231, 16232, 16234, 16235, 8045, 1599, 24431, 8047, 8049, 8048, 1600, 8053, 8055, 24444, 8063, 8064, 16258, 8067, 24453, 24454, 16262, 8072, 16265, 8074, 16261, 8069, 16264, 16270, 8079, 24456, 16274, 16278, 8087, 16280, 24470, 24474, 24475, 24471, 24477, 24479, 24489, 24490, 24499, 8116, 16310, 24503, 8118, 8122, 24506, 8128, 16324, 8134, 16331, 16332, 16333, 16334, 16335, 16336, 8148, 8150, 8151, 16347, 8155, 16349, 8156, 16348, 16352, 8161, 16357, 24559, 16368, 8177, 8178, 8179, 8184, 8185}, {17822, 16470}, {10115, 23916, 10134}, {2120, 8157}, {7713, 19052}, {16484, 8302}, {23776, 8708}, {25388, 13621}, {20960, 15322, 23648, 11593, 18415, 16818, 6355, 7542, 4633, 7194}, {2004, 21191}, {6072, 8887}, {9337, 4254}, {24640, 24152, 4685, 15415}, {5545, 18003, 6709}, {11808, 18560, 11566}, {15624, 15249}, {9760, 2054, 13741, 8719, 1552, 10355}, {20345, 6075, 13932, 14499}, {21530, 5059, 13485}, {18171, 85, 5413}, {1194, 21858}, {23856, 24451, 4252}, {24961, 10676}, {2569, 5546}, {21206, 25662, 23175}, {19061, 9094}, {7637, 2119}, {2784, 16224, 24161, 16109, 21808, 5425}, {2656, 24251, 14560}, {4128, 13202, 22253, 16703}, {23168, 17252, 5478, 16040, 5738, 12042, 6538, 1549, 22766, 24732, 8349, 18142}, {1490, 20813}, {24594, 2339}, {19936, 2118, 4199, 25864, 6443, 26132, 19932}, {9994, 17276, 18383}, {15824, 22283}, {14886, 6315, 14353, 2455, 2043}, {11035, 12707, 5156, 14282, 17933, 10904, 7483}, {8626, 294}, {6706, 11459}, {18603, 8428, 10637, 21340}, {4186, 13675}, {12616, 16266, 4485}, {19018, 8443, 15248, 17076, 17595}, {11816, 2259, 10317}, {6448, 1346}, {21314, 13704, 23946, 25611, 2186, 17453, 20560, 309, 11030, 17015, 2136, 10677, 6012, 9591}, {17120, 1050}, {6744, 9595}, {8704, 1154, 12930, 12017, 17591}, {12161, 19162}, {14771, 24127}, {17560, 12689, 21697, 25116}, {23465, 598}, {7888, 4017, 17291}, {24728, 16281}, {2762, 22378}, {5260, 1669, 12703}, {25957, 25958, 8263, 12046, 19126, 14135, 17882, 17724}, {15387, 15388}, {1289, 1560, 4365, 8530, 21144, 10906}, {11616, 14149, 3750, 14662, 16648, 19560, 23530, 8147, 22199}, {22976, 9832, 25609, 11279, 17750}, {5083, 5084, 8711}, {25676, 350, 951}, {925, 8615}, {14096, 23154, 1556, 11965}, {6628, 19015, 25139, 19444, 5212}, {7632, 14170, 11427, 20414}, {25130, 21221, 7958, 14543}, {16620, 16621, 2611, 1908, 17173, 376}, {10872, 24250, 2666}, {16820, 10252, 9630}, {5144, 24852, 8869, 14159}, {19507, 12798, 3199}, {2593, 10433}, {23480, 23652}, {10338, 7523, 12458, 16651, 12460, 19378, 14844}, {161, 3105, 97, 11418, 19583}, {22720, 24169, 21684, 21821, 22719}, {24816, 17179, 9871}, {11216, 19598, 13815}, {11465, 11577, 3239}, {17141, 11462}, {17690, 5814}, {11842, 5828, 4040, 1656, 21531}, {18562, 14431, 24439, 20537, 12414, 21339, 3102, 20543}, {3196, 23226, 1092}, {1281, 3653, 25287, 12551, 24207, 10163, 17588, 18621}, {10682, 2506, 9962, 22428}, {6354, 15188}, {6008, 20914, 9959}, {12256, 5081, 17237}, {1107, 6973}, {12320, 12321, 19222}, {5626, 4019, 24957}, {21288, 8308, 8557, 26191}, {1378, 7877, 11622, 3852, 15422}, {10564, 2984, 8970, 15187, 8731}, {18984, 2476}, {21386, 187, 1821}, {18218, 10133}, {18721, 3067}, {890, 844, 11197}, {20953, 1916, 24463}, {20776, 15706, 374}, {3195, 19252}, {17280, 2785, 3682, 19956, 24597}, {12704, 2355, 7861}, {194, 8628}, {8146, 21028}, {10897, 5548}, {19554, 24878, 6159}, {23881, 5577}, {19520, 23553, 23554, 12387, 23084, 19931}, {12617, 17388, 6037}, {800, 15485, 13167}, {18098, 3100}, {19380, 1695}, {12193, 9618, 11285}, {21313, 21187, 11879, 26092, 4051, 21310}, {23416, 3074}, {25487, 19911}, {6423, 6229, 7647}, {10148, 10847}, {21344, 11009, 11721, 22990, 23471, 15221, 12151, 20157}, {6579, 3206, 6535}, {12290, 17307, 20031}, {8404, 25853}, {25, 22891}, {21515, 21523, 28, 7916}, {18245, 10559}, {6914, 6389, 18279}, {10002, 7468}, {14384, 12041}, {833, 17951}, {4826, 4021, 26022}, {6161, 7055}, {19712, 21024, 8071, 24846, 23215, 2329, 17178}, {19572, 16892, 3062}, {8077, 13022}, {6300, 2117}, {21809, 15609}, {21018, 5479}, {16124, 24334, 20807}, {15681, 7482, 20793}, {17585, 15218}, {7957, 18895}, {2331, 15181}, {22920, 188, 17461}, {21579, 373}, {10356, 19062}, {11828, 7807}, {10432, 16891, 5774}, {2624, 24202}, {7356, 15572}, {8811, 22021}, {18544, 2332, 21596}, {15642, 17563, 16783}, {22404, 9026, 12252}, {25545, 19866, 8538, 18669}, {7536, 7534}, {1344, 18126}, {17865, 4276, 717, 24159}, {1376, 4267}, {22000, 25136, 15259}, {348, 5660, 15847}, {11969, 18996, 1967}, {15712, 19596}, {6648, 1292, 10341, 14840}, {10936, 19509, 19510, 23687}, {15668, 17293, 26006, 25614}, {3744, 10178, 24133}, {3989, 17471}, {8671, 115, 5268, 10679}, {16802, 23757, 830}, {12504, 9053}, {7603, 1589}, {15208, 23759}, {25444, 5668, 6908, 19879, 18034, 8187, 5468, 1981}, {14502, 3818, 13325, 6735, 15899, 3388, 20926, 23167}, {10517, 5119}, {8036, 6446}, {19170, 7596, 11196, 13}, {20332, 15246, 4495, 6350, 11823, 16014, 8372, 13628, 23710}, {5137, 6884}, {2123, 19011, 1013}, {20803, 6356, 25231}, {2328, 8058, 1551}, {8336, 24464}, {25115, 8739, 25852, 13357}, {3200, 17468, 4264}, {25510, 3279}, {10513, 25059, 25595}, {19257, 22961, 7477}, {19906, 26102}, {19941, 6079}, {16338, 21390}, {82, 3844}, {15688, 22692}, {4954, 4955}, {5409, 8623}, {12192, 7026, 5839}, {787, 20883, 12940}, {20422, 2215, 10792, 2222, 15695, 20379, 21309}, {4272, 2557}, {16353, 10884, 9606, 2247, 5973, 12122, 4958}, {4427, 2981}, {9865, 6669}, {7588, 7590}, {14130, 3599}, {5432, 12676, 14302}, {3297, 5667, 23461, 17936, 21713, 14770, 25470}, {1670, 14894, 22927}, {3362, 3347, 16957}, {2938, 18581}, {21593, 22325}, {4288, 3522, 2409, 18970, 4286}, {2201, 16226, 14868}, {22730, 5211, 11028, 21171}, {6290, 1187}, {18288, 13677, 23206}, {17696, 16523, 4110}, {15641, 5466, 19548, 12801}, {18144, 15423}, {17346, 9149, 20319}, {18151, 782, 16655, 11539, 15227}, {7572, 254}, {22312, 25226, 20150}, {23621, 11623}, {8705, 19014, 5960, 11662, 14094}, {14842, 8255, 24575}, {1989, 4106, 17782, 18231, 7515}, {24272, 17785, 18628, 15583}, {25211, 11971}, {12554, 7636}, {4278, 18183}, {10561, 10522}, {1383, 25678, 3377, 1660, 23068, 25631}, {9518, 822, 16358}, {15396, 26180, 4777, 19064, 18238}, {360, 2304, 7602, 8307}, {5632, 20433, 5446}, {11016, 10818, 25596}, {16932, 6534, 11561, 9579, 22381, 19451}, {18390, 12863}, {8400, 1836}, {23424, 15182, 22319, 16728, 8153}, {24504, 8054}, {22605, 21623}, {7265, 2754, 5511, 10056, 13390, 7479}, {25482, 10382}, {20216, 4266, 2223}, {20035, 16643}, {8881, 6170, 16609}, {14131, 372}, {12113, 18626, 142, 16886}, {25062, 8735}, {11911, 9039}, {734, 21303}, {19221, 17470}, {18194, 21949}, {5697, 14358}, {13717, 8558}, {8676, 8534}, {9224, 10154, 16830, 11410}, {4144, 23771, 18596}, {16622, 18454}, {8738, 13620, 13334, 13031}, {16312, 16314}, {3186, 11991}, {17537, 14182}, {18338, 18036, 15358}, {12307, 22980, 14175}, {5387, 18156}, {23760, 19145}, {20943, 13012, 1983}, {22110, 5231}, {20084, 22311}, {6576, 1621, 7109}, {6307, 12751}, {18688, 4259, 13486}, {10672, 9921, 12512, 4630}, {11280, 831}, {15154, 14132}, {8512, 4034, 25511, 9715, 25492, 9717}, {4828, 5404, 1798}, {11641, 24462}, {22729, 14338}, {24128, 19466, 7543}, {24242, 11411}, {5492, 5853}, {12473, 9831}, {18388, 20654}, {15401, 4196}, {25664, 1051, 4245}, {19553, 13802, 5571, 16823}, {15962, 25447}, {18417, 19892}, {20320, 4643}, {14990, 25975}, {8395, 8725, 11054}, {4432, 14763}, {11718, 20766}, {15553, 15374}, {5490, 8474}, {1976, 23672}, {12295}, {12034, 2116, 9765, 9189, 9774, 17935}, {12248, 98}, {17992, 4181}, {2248, 8409}, {15073, 11579}, {16922, 20925}, {7585, 15386, 13415}, {23772, 735}, {16129, 74, 2298}, {8717, 10638}, {22318, 9038, 21710, 12213, 13558, 24888, 8669}, {2561, 23094}, {8472, 1969, 24141}, {20170, 16971, 5228}, {18608, 22816, 14339}, {7280, 7267, 20309}, {25667, 8891, 11893}, {6776, 24733}, {17587, 10180, 2334}, {23156, 11215}, {7718, 23970, 19502}, {3748, 17503}, {10602, 20805}, {11467, 19575}, {7058, 23811, 4038}, {15800, 12338, 1878}, {9130, 25095}, {1010, 2749}, {11642, 25230}, {5256, 5257, 22827}, {22938, 16015}, {20333, 4262}, {6701, 10407}, {22435, 5406}, {11120, 20233, 17851, 16340}, {410, 4366}, {9211, 13413}, {19473, 23812}, {4116, 24214}, {26048, 26019, 25543, 19880, 19314, 25496}, {20707, 24820}, {8366, 5486}, {6282, 5261}, {25531, 18908}, {12050, 5364}, {14171, 14}, {5232, 19521, 14845}]\n"
          ]
        }
      ]
    },
    {
      "cell_type": "code",
      "source": [
        "nx.shortest_path_length(arxiv, 14845 )"
      ],
      "metadata": {
        "colab": {
          "base_uri": "https://localhost:8080/"
        },
        "id": "qLL9ZZJeUKWw",
        "outputId": "af1e4121-70d6-43c2-b3d4-769bc90e97f3"
      },
      "execution_count": 49,
      "outputs": [
        {
          "output_type": "execute_result",
          "data": {
            "text/plain": [
              "{5232: 1, 14845: 0, 19521: 1}"
            ]
          },
          "metadata": {},
          "execution_count": 49
        }
      ]
    },
    {
      "cell_type": "code",
      "source": [
        "nx.shortest_path_length(arxiv, 20707 )"
      ],
      "metadata": {
        "colab": {
          "base_uri": "https://localhost:8080/"
        },
        "id": "kv1BVyGoUdBH",
        "outputId": "abeb4182-896d-4e35-8037-6979ef25ad0f"
      },
      "execution_count": 50,
      "outputs": [
        {
          "output_type": "execute_result",
          "data": {
            "text/plain": [
              "{20707: 0, 24820: 1}"
            ]
          },
          "metadata": {},
          "execution_count": 50
        }
      ]
    },
    {
      "cell_type": "code",
      "source": [
        "nx.shortest_path_length(arxiv, 16225 )"
      ],
      "metadata": {
        "colab": {
          "base_uri": "https://localhost:8080/"
        },
        "id": "bUkpwSYyUiKE",
        "outputId": "001365e4-72e7-4258-9bae-7510150a3e33"
      },
      "execution_count": 51,
      "outputs": [
        {
          "output_type": "execute_result",
          "data": {
            "text/plain": [
              "{16225: 0,\n",
              " 26058: 1,\n",
              " 17149: 1,\n",
              " 3265: 2,\n",
              " 16324: 2,\n",
              " 13035: 2,\n",
              " 16110: 2,\n",
              " 26130: 2,\n",
              " 408: 2,\n",
              " 21404: 2,\n",
              " 10496: 3,\n",
              " 25089: 3,\n",
              " 22018: 3,\n",
              " 13834: 3,\n",
              " 4138: 3,\n",
              " 26038: 3,\n",
              " 13622: 3,\n",
              " 11325: 3,\n",
              " 12733: 3,\n",
              " 11328: 3,\n",
              " 25034: 3,\n",
              " 10841: 3,\n",
              " 8298: 3,\n",
              " 16640: 4,\n",
              " 25729: 4,\n",
              " 11012: 4,\n",
              " 10501: 4,\n",
              " 11400: 4,\n",
              " 8968: 4,\n",
              " 1674: 4,\n",
              " 18443: 4,\n",
              " 17932: 4,\n",
              " 11405: 4,\n",
              " 21646: 4,\n",
              " 13199: 4,\n",
              " 1172: 4,\n",
              " 20373: 4,\n",
              " 17559: 4,\n",
              " 2713: 4,\n",
              " 10268: 4,\n",
              " 3998: 4,\n",
              " 21409: 4,\n",
              " 20002: 4,\n",
              " 20004: 4,\n",
              " 23204: 4,\n",
              " 4139: 4,\n",
              " 25516: 4,\n",
              " 1838: 4,\n",
              " 23855: 4,\n",
              " 12720: 4,\n",
              " 11318: 4,\n",
              " 16310: 4,\n",
              " 9273: 4,\n",
              " 15418: 4,\n",
              " 25660: 4,\n",
              " 8513: 4,\n",
              " 9283: 4,\n",
              " 16837: 4,\n",
              " 10310: 4,\n",
              " 2115: 4,\n",
              " 26059: 4,\n",
              " 17228: 4,\n",
              " 26065: 4,\n",
              " 17746: 4,\n",
              " 851: 4,\n",
              " 23775: 4,\n",
              " 9184: 4,\n",
              " 14818: 4,\n",
              " 17764: 4,\n",
              " 13029: 4,\n",
              " 11372: 4,\n",
              " 16749: 4,\n",
              " 9710: 4,\n",
              " 9325: 4,\n",
              " 18032: 4,\n",
              " 19568: 4,\n",
              " 13682: 4,\n",
              " 15479: 4,\n",
              " 252: 4,\n",
              " 12927: 4,\n",
              " 25607: 5,\n",
              " 10762: 5,\n",
              " 11788: 5,\n",
              " 14357: 5,\n",
              " 8726: 5,\n",
              " 2072: 5,\n",
              " 16921: 5,\n",
              " 9241: 5,\n",
              " 11293: 5,\n",
              " 16414: 5,\n",
              " 546: 5,\n",
              " 8742: 5,\n",
              " 3113: 5,\n",
              " 26157: 5,\n",
              " 12334: 5,\n",
              " 3633: 5,\n",
              " 12337: 5,\n",
              " 20533: 5,\n",
              " 25143: 5,\n",
              " 21048: 5,\n",
              " 15419: 5,\n",
              " 25661: 5,\n",
              " 15938: 5,\n",
              " 5698: 5,\n",
              " 4164: 5,\n",
              " 23114: 5,\n",
              " 22603: 5,\n",
              " 26190: 5,\n",
              " 26194: 5,\n",
              " 22611: 5,\n",
              " 25684: 5,\n",
              " 23637: 5,\n",
              " 18013: 5,\n",
              " 23134: 5,\n",
              " 2654: 5,\n",
              " 16994: 5,\n",
              " 615: 5,\n",
              " 13929: 5,\n",
              " 17001: 5,\n",
              " 5233: 5,\n",
              " 11379: 5,\n",
              " 6264: 5,\n",
              " 122: 5,\n",
              " 5246: 5,\n",
              " 14982: 5,\n",
              " 5259: 5,\n",
              " 10381: 5,\n",
              " 14991: 5,\n",
              " 4756: 5,\n",
              " 4247: 5,\n",
              " 4250: 5,\n",
              " 5787: 5,\n",
              " 19101: 5,\n",
              " 9889: 5,\n",
              " 19107: 5,\n",
              " 164: 5,\n",
              " 4273: 5,\n",
              " 9907: 5,\n",
              " 20148: 5,\n",
              " 5302: 5,\n",
              " 16056: 5,\n",
              " 19640: 5,\n",
              " 7355: 5,\n",
              " 16070: 5,\n",
              " 19657: 5,\n",
              " 14540: 5,\n",
              " 21712: 5,\n",
              " 16083: 5,\n",
              " 21203: 5,\n",
              " 19159: 5,\n",
              " 16087: 5,\n",
              " 17113: 5,\n",
              " 4825: 5,\n",
              " 10463: 5,\n",
              " 5346: 5,\n",
              " 18658: 5,\n",
              " 17124: 5,\n",
              " 17126: 5,\n",
              " 743: 5,\n",
              " 10983: 5,\n",
              " 15589: 5,\n",
              " 18667: 5,\n",
              " 20716: 5,\n",
              " 24814: 5,\n",
              " 20207: 5,\n",
              " 8441: 5,\n",
              " 3323: 5,\n",
              " 4351: 5,\n",
              " 12545: 5,\n",
              " 10497: 5,\n",
              " 7935: 5,\n",
              " 19204: 5,\n",
              " 19206: 5,\n",
              " 13056: 5,\n",
              " 14599: 5,\n",
              " 18189: 5,\n",
              " 21776: 5,\n",
              " 3345: 5,\n",
              " 21778: 5,\n",
              " 9491: 5,\n",
              " 10524: 5,\n",
              " 2846: 5,\n",
              " 10526: 5,\n",
              " 7459: 5,\n",
              " 15144: 5,\n",
              " 18736: 5,\n",
              " 24372: 5,\n",
              " 14647: 5,\n",
              " 10555: 5,\n",
              " 25916: 5,\n",
              " 1341: 5,\n",
              " 1854: 5,\n",
              " 2368: 5,\n",
              " 4422: 5,\n",
              " 11591: 5,\n",
              " 10055: 5,\n",
              " 12110: 5,\n",
              " 17231: 5,\n",
              " 16210: 5,\n",
              " 11604: 5,\n",
              " 1877: 5,\n",
              " 853: 5,\n",
              " 15196: 5,\n",
              " 19807: 5,\n",
              " 352: 5,\n",
              " 9572: 5,\n",
              " 3430: 5,\n",
              " 5993: 5,\n",
              " 3948: 5,\n",
              " 13164: 5,\n",
              " 12141: 5,\n",
              " 7024: 5,\n",
              " 3441: 5,\n",
              " 4466: 5,\n",
              " 13683: 5,\n",
              " 24431: 5,\n",
              " 8045: 5,\n",
              " 375: 5,\n",
              " 20344: 5,\n",
              " 5497: 5,\n",
              " 9593: 5,\n",
              " 3451: 5,\n",
              " 7038: 5,\n",
              " 1408: 5,\n",
              " 23944: 5,\n",
              " 3466: 5,\n",
              " 13196: 5,\n",
              " 13711: 5,\n",
              " 15250: 5,\n",
              " 24470: 5,\n",
              " 14746: 5,\n",
              " 19355: 5,\n",
              " 3996: 5,\n",
              " 2465: 5,\n",
              " 4515: 5,\n",
              " 8612: 5,\n",
              " 12709: 5,\n",
              " 934: 5,\n",
              " 17827: 5,\n",
              " 12712: 5,\n",
              " 22439: 5,\n",
              " 2474: 5,\n",
              " 4013: 5,\n",
              " 24499: 5,\n",
              " 21943: 5,\n",
              " 21432: 5,\n",
              " 9143: 5,\n",
              " 9659: 5,\n",
              " 9147: 5,\n",
              " 17341: 5,\n",
              " 21438: 5,\n",
              " 8641: 5,\n",
              " 11713: 5,\n",
              " 12742: 5,\n",
              " 12743: 5,\n",
              " 16332: 5,\n",
              " 2001: 5,\n",
              " 19922: 5,\n",
              " 11223: 5,\n",
              " 23513: 5,\n",
              " 8666: 5,\n",
              " 15321: 5,\n",
              " 482: 5,\n",
              " 19940: 5,\n",
              " 4583: 5,\n",
              " 8680: 5,\n",
              " 1000: 5,\n",
              " 15850: 5,\n",
              " 19434: 5,\n",
              " 18924: 5,\n",
              " 1006: 5,\n",
              " 17393: 5,\n",
              " 26098: 5,\n",
              " 21491: 5,\n",
              " 14324: 5,\n",
              " 13813: 5,\n",
              " 7154: 5,\n",
              " 17911: 5,\n",
              " 2042: 5,\n",
              " 5629: 5,\n",
              " 25598: 5,\n",
              " 8193: 6,\n",
              " 8195: 6,\n",
              " 16389: 6,\n",
              " 4102: 6,\n",
              " 4104: 6,\n",
              " 10251: 6,\n",
              " 14351: 6,\n",
              " 6160: 6,\n",
              " 12306: 6,\n",
              " 12308: 6,\n",
              " 18455: 6,\n",
              " 8216: 6,\n",
              " 12311: 6,\n",
              " 4125: 6,\n",
              " 20511: 6,\n",
              " 6175: 6,\n",
              " 2076: 6,\n",
              " 6179: 6,\n",
              " 20517: 6,\n",
              " 14377: 6,\n",
              " 24620: 6,\n",
              " 45: 6,\n",
              " 46: 6,\n",
              " 4143: 6,\n",
              " 4146: 6,\n",
              " 20532: 6,\n",
              " 20534: 6,\n",
              " 18487: 6,\n",
              " 18488: 6,\n",
              " 18489: 6,\n",
              " 8254: 6,\n",
              " 22598: 6,\n",
              " 22601: 6,\n",
              " 20554: 6,\n",
              " 6218: 6,\n",
              " 12365: 6,\n",
              " 18511: 6,\n",
              " 80: 6,\n",
              " 20562: 6,\n",
              " 4180: 6,\n",
              " 18517: 6,\n",
              " 22610: 6,\n",
              " 20567: 6,\n",
              " 16469: 6,\n",
              " 18521: 6,\n",
              " 18524: 6,\n",
              " 22621: 6,\n",
              " 2155: 6,\n",
              " 18540: 6,\n",
              " 16495: 6,\n",
              " 22644: 6,\n",
              " 8312: 6,\n",
              " 2169: 6,\n",
              " 24696: 6,\n",
              " 128: 6,\n",
              " 2182: 6,\n",
              " 135: 6,\n",
              " 10376: 6,\n",
              " 16521: 6,\n",
              " 8335: 6,\n",
              " 6288: 6,\n",
              " 4241: 6,\n",
              " 18579: 6,\n",
              " 14485: 6,\n",
              " 20635: 6,\n",
              " 14498: 6,\n",
              " 22691: 6,\n",
              " 2212: 6,\n",
              " 10406: 6,\n",
              " 20644: 6,\n",
              " 22696: 6,\n",
              " 18600: 6,\n",
              " 16554: 6,\n",
              " 22699: 6,\n",
              " 20650: 6,\n",
              " 4269: 6,\n",
              " 8365: 6,\n",
              " 178: 6,\n",
              " 24753: 6,\n",
              " 16568: 6,\n",
              " 4283: 6,\n",
              " 20667: 6,\n",
              " 2239: 6,\n",
              " 16576: 6,\n",
              " 193: 6,\n",
              " 22721: 6,\n",
              " 22727: 6,\n",
              " 2249: 6,\n",
              " 2250: 6,\n",
              " 14541: 6,\n",
              " 22734: 6,\n",
              " 12496: 6,\n",
              " 16594: 6,\n",
              " 22741: 6,\n",
              " 214: 6,\n",
              " 14552: 6,\n",
              " 14562: 6,\n",
              " 231: 6,\n",
              " 18668: 6,\n",
              " 10477: 6,\n",
              " 15108: 6,\n",
              " 10476: 6,\n",
              " 245: 6,\n",
              " 18681: 6,\n",
              " 22778: 6,\n",
              " 4353: 6,\n",
              " 4354: 6,\n",
              " 10499: 6,\n",
              " 22790: 6,\n",
              " 6408: 6,\n",
              " 16649: 6,\n",
              " 12553: 6,\n",
              " 14606: 6,\n",
              " 16659: 6,\n",
              " 8471: 6,\n",
              " 4379: 6,\n",
              " 22811: 6,\n",
              " 14621: 6,\n",
              " 22815: 6,\n",
              " 18719: 6,\n",
              " 18720: 6,\n",
              " 18724: 6,\n",
              " 20780: 6,\n",
              " 14638: 6,\n",
              " 22830: 6,\n",
              " 22834: 6,\n",
              " 18739: 6,\n",
              " 8503: 6,\n",
              " 8505: 6,\n",
              " 6455: 6,\n",
              " 12606: 6,\n",
              " 4416: 6,\n",
              " 14664: 6,\n",
              " 16718: 6,\n",
              " 4431: 6,\n",
              " 339: 6,\n",
              " 4442: 6,\n",
              " 24924: 6,\n",
              " 10588: 6,\n",
              " 10590: 6,\n",
              " 8547: 6,\n",
              " 24932: 6,\n",
              " 22887: 6,\n",
              " 24939: 6,\n",
              " 365: 6,\n",
              " 20850: 6,\n",
              " 12659: 6,\n",
              " 22899: 6,\n",
              " 22900: 6,\n",
              " 24955: 6,\n",
              " 6524: 6,\n",
              " 10623: 6,\n",
              " 385: 6,\n",
              " 6530: 6,\n",
              " 4483: 6,\n",
              " 12675: 6,\n",
              " 22917: 6,\n",
              " 8579: 6,\n",
              " 4490: 6,\n",
              " 16778: 6,\n",
              " 6541: 6,\n",
              " 8589: 6,\n",
              " 20879: 6,\n",
              " 400: 6,\n",
              " 6544: 6,\n",
              " 12688: 6,\n",
              " 12691: 6,\n",
              " 20886: 6,\n",
              " 409: 6,\n",
              " 6558: 6,\n",
              " 4511: 6,\n",
              " 10655: 6,\n",
              " 4513: 6,\n",
              " 25006: 6,\n",
              " 14767: 6,\n",
              " 8630: 6,\n",
              " 22975: 6,\n",
              " 450: 6,\n",
              " 12739: 6,\n",
              " 18884: 6,\n",
              " 12745: 6,\n",
              " 18894: 6,\n",
              " 6610: 6,\n",
              " 6611: 6,\n",
              " 14807: 6,\n",
              " 16858: 6,\n",
              " 20954: 6,\n",
              " 25053: 6,\n",
              " 4575: 6,\n",
              " 8672: 6,\n",
              " 6635: 6,\n",
              " 16877: 6,\n",
              " 12781: 6,\n",
              " 495: 6,\n",
              " 12788: 6,\n",
              " 25080: 6,\n",
              " 16889: 6,\n",
              " 18940: 6,\n",
              " 23038: 6,\n",
              " 2560: 6,\n",
              " 16899: 6,\n",
              " 12806: 6,\n",
              " 16906: 6,\n",
              " 10765: 6,\n",
              " 25102: 6,\n",
              " 14865: 6,\n",
              " 21012: 6,\n",
              " 18971: 6,\n",
              " 8732: 6,\n",
              " 18973: 6,\n",
              " 2591: 6,\n",
              " 12842: 6,\n",
              " 6700: 6,\n",
              " 16940: 6,\n",
              " 12849: 6,\n",
              " 18995: 6,\n",
              " 6707: 6,\n",
              " 12851: 6,\n",
              " 570: 6,\n",
              " 573: 6,\n",
              " 8768: 6,\n",
              " 10819: 6,\n",
              " 12868: 6,\n",
              " 23107: 6,\n",
              " 25158: 6,\n",
              " 23110: 6,\n",
              " 10824: 6,\n",
              " 16967: 6,\n",
              " 10822: 6,\n",
              " 14924: 6,\n",
              " 16976: 6,\n",
              " 8786: 6,\n",
              " 21075: 6,\n",
              " 14932: 6,\n",
              " 4697: 6,\n",
              " 10842: 6,\n",
              " 6746: 6,\n",
              " 6748: 6,\n",
              " 2655: 6,\n",
              " 4708: 6,\n",
              " 14952: 6,\n",
              " 23145: 6,\n",
              " 23149: 6,\n",
              " 624: 6,\n",
              " 25201: 6,\n",
              " 25205: 6,\n",
              " 6774: 6,\n",
              " 23163: 6,\n",
              " 10878: 6,\n",
              " 4743: 6,\n",
              " 4748: 6,\n",
              " 25228: 6,\n",
              " 17038: 6,\n",
              " 19084: 6,\n",
              " 19090: 6,\n",
              " 8851: 6,\n",
              " 23186: 6,\n",
              " 2710: 6,\n",
              " 21142: 6,\n",
              " 6808: 6,\n",
              " 19093: 6,\n",
              " 15003: 6,\n",
              " 4765: 6,\n",
              " 8862: 6,\n",
              " 676: 6,\n",
              " 8868: 6,\n",
              " 12971: 6,\n",
              " 6830: 6,\n",
              " 8879: 6,\n",
              " 23214: 6,\n",
              " 10926: 6,\n",
              " 2741: 6,\n",
              " 2742: 6,\n",
              " 25271: 6,\n",
              " 23224: 6,\n",
              " 23225: 6,\n",
              " 8888: 6,\n",
              " 10942: 6,\n",
              " 17086: 6,\n",
              " 2761: 6,\n",
              " 715: 6,\n",
              " 4814: 6,\n",
              " 23246: 6,\n",
              " 6864: 6,\n",
              " 13008: 6,\n",
              " 8916: 6,\n",
              " 4822: 6,\n",
              " 19161: 6,\n",
              " 8922: 6,\n",
              " 15066: 6,\n",
              " 8928: 6,\n",
              " 13026: 6,\n",
              " 21220: 6,\n",
              " 4836: 6,\n",
              " 17127: 6,\n",
              " 19179: 6,\n",
              " 2797: 6,\n",
              " 17134: 6,\n",
              " 4847: 6,\n",
              " 4846: 6,\n",
              " 17135: 6,\n",
              " 750: 6,\n",
              " 6905: 6,\n",
              " 16963: 6,\n",
              " 23293: 6,\n",
              " 6911: 6,\n",
              " 25346: 6,\n",
              " 23298: 6,\n",
              " 773: 6,\n",
              " 23302: 6,\n",
              " 11015: 6,\n",
              " 6920: 6,\n",
              " 17161: 6,\n",
              " 23304: 6,\n",
              " 19207: 6,\n",
              " 4877: 6,\n",
              " 13067: 6,\n",
              " 19216: 6,\n",
              " 15123: 6,\n",
              " 6934: 6,\n",
              " 15127: 6,\n",
              " 17180: 6,\n",
              " 17182: 6,\n",
              " 21281: 6,\n",
              " 25378: 6,\n",
              " 17187: 6,\n",
              " 11047: 6,\n",
              " 13096: 6,\n",
              " 21289: 6,\n",
              " 811: 6,\n",
              " 19246: 6,\n",
              " 23344: 6,\n",
              " 25396: 6,\n",
              " 17207: 6,\n",
              " 15159: 6,\n",
              " 9017: 6,\n",
              " 25402: 6,\n",
              " 15166: 6,\n",
              " 21316: 6,\n",
              " 21324: 6,\n",
              " 15184: 6,\n",
              " 13142: 6,\n",
              " 23382: 6,\n",
              " 4952: 6,\n",
              " 21341: 6,\n",
              " 2912: 6,\n",
              " 19297: 6,\n",
              " 11107: 6,\n",
              " 4966: 6,\n",
              " 9075: 6,\n",
              " 17268: 6,\n",
              " 4983: 6,\n",
              " 19324: 6,\n",
              " 894: 6,\n",
              " 15235: 6,\n",
              " 21379: 6,\n",
              " 2949: 6,\n",
              " 13190: 6,\n",
              " 13191: 6,\n",
              " 2952: 6,\n",
              " 9099: 6,\n",
              " 21391: 6,\n",
              " 15252: 6,\n",
              " 13205: 6,\n",
              " 15258: 6,\n",
              " 23452: 6,\n",
              " 7071: 6,\n",
              " 7072: 6,\n",
              " 21407: 6,\n",
              " 9124: 6,\n",
              " 9125: 6,\n",
              " 11175: 6,\n",
              " 937: 6,\n",
              " 939: 6,\n",
              " 23477: 6,\n",
              " 953: 6,\n",
              " 23481: 6,\n",
              " 21436: 6,\n",
              " 5052: 6,\n",
              " 3006: 6,\n",
              " 23488: 6,\n",
              " 5056: 6,\n",
              " 25541: 6,\n",
              " 15311: 6,\n",
              " 23506: 6,\n",
              " 23509: 6,\n",
              " 25557: 6,\n",
              " 25562: 6,\n",
              " 11227: 6,\n",
              " 13276: 6,\n",
              " 23514: 6,\n",
              " 19423: 6,\n",
              " 11233: 6,\n",
              " 25569: 6,\n",
              " 25575: 6,\n",
              " 11241: 6,\n",
              " 19433: 6,\n",
              " 17389: 6,\n",
              " 25585: 6,\n",
              " 19442: 6,\n",
              " 3059: 6,\n",
              " 5107: 6,\n",
              " 17394: 6,\n",
              " 15353: 6,\n",
              " 3068: 6,\n",
              " 13310: 6,\n",
              " 23552: 6,\n",
              " 9217: 6,\n",
              " 25601: 6,\n",
              " 23555: 6,\n",
              " 21508: 6,\n",
              " 25599: 6,\n",
              " 17414: 6,\n",
              " 19463: 6,\n",
              " 11275: 6,\n",
              " 19475: 6,\n",
              " 11284: 6,\n",
              " 23576: 6,\n",
              " 23577: 6,\n",
              " 17439: 6,\n",
              " 13346: 6,\n",
              " 19493: 6,\n",
              " 23620: 6,\n",
              " 1093: 6,\n",
              " 1098: 6,\n",
              " 7245: 6,\n",
              " 1109: 6,\n",
              " 5209: 6,\n",
              " 9306: 6,\n",
              " 23647: 6,\n",
              " 23649: 6,\n",
              " 25698: 6,\n",
              " 25710: 6,\n",
              " 19569: 6,\n",
              " 15477: 6,\n",
              " 25718: 6,\n",
              " 25719: 6,\n",
              " 3193: 6,\n",
              " 19580: 6,\n",
              " 3197: 6,\n",
              " 19581: 6,\n",
              " 17536: 6,\n",
              " 17538: 6,\n",
              " 1149: 6,\n",
              " 23681: 6,\n",
              " 7307: 6,\n",
              " 9360: 6,\n",
              " 21650: 6,\n",
              " 5266: 6,\n",
              " 21653: 6,\n",
              " 19608: 6,\n",
              " 19607: 6,\n",
              " 23708: 6,\n",
              " 19613: 6,\n",
              " 25758: 6,\n",
              " 13469: 6,\n",
              " 21665: 6,\n",
              " 13480: 6,\n",
              " 3243: 6,\n",
              " 9397: 6,\n",
              " 11445: 6,\n",
              " 7350: 6,\n",
              " 19642: 6,\n",
              " 19641: 6,\n",
              " 13501: 6,\n",
              " 7357: 6,\n",
              " 15552: 6,\n",
              " 9417: 6,\n",
              " 1229: 6,\n",
              " 13520: 6,\n",
              " 11472: 6,\n",
              " 1234: 6,\n",
              " 17626: 6,\n",
              " 23770: 6,\n",
              " 15585: 6,\n",
              " 11491: 6,\n",
              " 3310: 6,\n",
              " 15600: 6,\n",
              " 9458: 6,\n",
              " 3316: 6,\n",
              " 13556: 6,\n",
              " 17655: 6,\n",
              " 21754: 6,\n",
              " 23805: 6,\n",
              " 15614: 6,\n",
              " 23806: 6,\n",
              " 1280: 6,\n",
              " 9471: 6,\n",
              " 19710: 6,\n",
              " 25866: 6,\n",
              " 9482: 6,\n",
              " 21771: 6,\n",
              " 9488: 6,\n",
              " 21777: 6,\n",
              " 19738: 6,\n",
              " 17692: 6,\n",
              " 13597: 6,\n",
              " 5407: 6,\n",
              " 13600: 6,\n",
              " 5412: 6,\n",
              " 9511: 6,\n",
              " 25896: 6,\n",
              " 1321: 6,\n",
              " 15659: 6,\n",
              " 3372: 6,\n",
              " 9517: 6,\n",
              " 1323: 6,\n",
              " 25903: 6,\n",
              " 13614: 6,\n",
              " 9522: 6,\n",
              " 13624: 6,\n",
              " 17721: 6,\n",
              " 15678: 6,\n",
              " 5441: 6,\n",
              " 15685: 6,\n",
              " 19781: 6,\n",
              " 21831: 6,\n",
              " 23880: 6,\n",
              " 17738: 6,\n",
              " 21832: 6,\n",
              " 1350: 6,\n",
              " 19791: 6,\n",
              " 3412: 6,\n",
              " 21847: 6,\n",
              " 17754: 6,\n",
              " 3420: 6,\n",
              " 1373: 6,\n",
              " 19806: 6,\n",
              " 1375: 6,\n",
              " 13664: 6,\n",
              " 19810: 6,\n",
              " 25948: 6,\n",
              " 11621: 6,\n",
              " 21860: 6,\n",
              " 21861: 6,\n",
              " 7522: 6,\n",
              " 23915: 6,\n",
              " 5483: 6,\n",
              " 11630: 6,\n",
              " 17778: 6,\n",
              " 3449: 6,\n",
              " 25978: 6,\n",
              " 1403: 6,\n",
              " 25980: 6,\n",
              " 23939: 6,\n",
              " 23945: 6,\n",
              " 11661: 6,\n",
              " 5519: 6,\n",
              " 13713: 6,\n",
              " 13714: 6,\n",
              " 26004: 6,\n",
              " 7573: 6,\n",
              " 1430: 6,\n",
              " 19870: 6,\n",
              " 5541: 6,\n",
              " 9639: 6,\n",
              " 15784: 6,\n",
              " 7592: 6,\n",
              " 11696: 6,\n",
              " 9649: 6,\n",
              " 5555: 6,\n",
              " 11700: 6,\n",
              " 23991: 6,\n",
              " 26042: 6,\n",
              " 5564: 6,\n",
              " 11712: 6,\n",
              " 24001: 6,\n",
              " 17859: 6,\n",
              " 3524: 6,\n",
              " 15814: 6,\n",
              " 15816: 6,\n",
              " 1488: 6,\n",
              " 11733: 6,\n",
              " 19927: 6,\n",
              " 5605: 6,\n",
              " 15846: 6,\n",
              " 13801: 6,\n",
              " 21994: 6,\n",
              " 19945: 6,\n",
              " 19955: 6,\n",
              " 5621: 6,\n",
              " 5622: 6,\n",
              " 19961: 6,\n",
              " 24057: 6,\n",
              " 9721: 6,\n",
              " 24060: 6,\n",
              " 5631: 6,\n",
              " 19974: 6,\n",
              " 9735: 6,\n",
              " 15880: 6,\n",
              " 7689: 6,\n",
              " 11785: 6,\n",
              " 1545: 6,\n",
              " 19980: 6,\n",
              " 26127: 6,\n",
              " 13847: 6,\n",
              " 5656: 6,\n",
              " 9755: 6,\n",
              " 11806: 6,\n",
              " 9759: 6,\n",
              " 7712: 6,\n",
              " 20000: 6,\n",
              " 3618: 6,\n",
              " 20001: 6,\n",
              " 7716: 6,\n",
              " 7717: 6,\n",
              " 7719: 6,\n",
              " 15912: 6,\n",
              " 20008: 6,\n",
              " 5674: 6,\n",
              " 24110: 6,\n",
              " 26159: 6,\n",
              " 17968: 6,\n",
              " 20014: 6,\n",
              " 1588: 6,\n",
              " 26167: 6,\n",
              " 9785: 6,\n",
              " 26171: 6,\n",
              " 15931: 6,\n",
              " 17981: 6,\n",
              " 5695: 6,\n",
              " 15935: 6,\n",
              " 26176: 6,\n",
              " 3651: 6,\n",
              " 15941: 6,\n",
              " 1606: 6,\n",
              " 15943: 6,\n",
              " 1608: 6,\n",
              " 15951: 6,\n",
              " 22100: 6,\n",
              " 5717: 6,\n",
              " 20052: 6,\n",
              " 11863: 6,\n",
              " 11861: 6,\n",
              " 11865: 6,\n",
              " 20059: 6,\n",
              " 22108: 6,\n",
              " 3677: 6,\n",
              " 5730: 6,\n",
              " 3683: 6,\n",
              " 15972: 6,\n",
              " 9829: 6,\n",
              " 22119: 6,\n",
              " 18037: 6,\n",
              " 1653: 6,\n",
              " 7802: 6,\n",
              " 1658: 6,\n",
              " 22144: 6,\n",
              " 18051: 6,\n",
              " 22147: 6,\n",
              " 20100: 6,\n",
              " 16006: 6,\n",
              " 24199: 6,\n",
              " 11910: 6,\n",
              " 5769: 6,\n",
              " 16010: 6,\n",
              " 20108: 6,\n",
              " 5773: 6,\n",
              " 11923: 6,\n",
              " 20116: 6,\n",
              " 7829: 6,\n",
              " 3731: 6,\n",
              " 1694: 6,\n",
              " 16032: 6,\n",
              " 9890: 6,\n",
              " 22184: 6,\n",
              " 22188: 6,\n",
              " 22189: 6,\n",
              " 5807: 6,\n",
              " 11951: 6,\n",
              " 7857: 6,\n",
              " 7855: 6,\n",
              " 14004: 6,\n",
              " 14007: 6,\n",
              " 1727: 6,\n",
              " 1728: 6,\n",
              " 16065: 6,\n",
              " 16067: 6,\n",
              " 20168: 6,\n",
              " 20169: 6,\n",
              " 24270: 6,\n",
              " 9937: 6,\n",
              " 22225: 6,\n",
              " 16084: 6,\n",
              " 7893: 6,\n",
              " 14033: 6,\n",
              " 9943: 6,\n",
              " 14037: 6,\n",
              " 9944: 6,\n",
              " 5851: 6,\n",
              " 7899: 6,\n",
              " 18140: 6,\n",
              " 24293: 6,\n",
              " 5862: 6,\n",
              " 22245: 6,\n",
              " 16101: 6,\n",
              " 18154: 6,\n",
              " 16107: 6,\n",
              " 1776: 6,\n",
              " 12016: 6,\n",
              " 7926: 6,\n",
              " 1787: 6,\n",
              " 14078: 6,\n",
              " 16128: 6,\n",
              " 22275: 6,\n",
              " 3845: 6,\n",
              " 22278: 6,\n",
              " 18185: 6,\n",
              " 14090: 6,\n",
              " 24332: 6,\n",
              " 5901: 6,\n",
              " 14093: 6,\n",
              " 22284: 6,\n",
              " 7956: 6,\n",
              " 16148: 6,\n",
              " 14102: 6,\n",
              " 7959: 6,\n",
              " 12056: 6,\n",
              " 16159: 6,\n",
              " ...}"
            ]
          },
          "metadata": {},
          "execution_count": 51
        }
      ]
    },
    {
      "cell_type": "code",
      "source": [
        "%%time\n",
        "sum_value = 0\n",
        "for i in range(1000000):\n",
        "    sum_value += i\n",
        "\n",
        "sum = 0\n",
        "count = 0\n",
        "for C in (arxiv.subgraph(c).copy() for c in nx.connected_components(arxiv)):\n",
        "    sum= sum+(nx.average_shortest_path_length(C))\n",
        "    count = count + 1\n",
        "print(sum)\n",
        "print(count)"
      ],
      "metadata": {
        "colab": {
          "base_uri": "https://localhost:8080/"
        },
        "id": "8XU3Mh0cVcam",
        "outputId": "ff2ca5aa-82f0-4bc4-d285-587ca0091747"
      },
      "execution_count": 57,
      "outputs": [
        {
          "output_type": "stream",
          "name": "stdout",
          "text": [
            "402.3236002404032\n",
            "355\n",
            "CPU times: user 38.8 s, sys: 119 ms, total: 38.9 s\n",
            "Wall time: 39 s\n"
          ]
        }
      ]
    },
    {
      "cell_type": "code",
      "source": [
        "arxiv_Average_Path_Length = 402.324/355\n",
        "print(arxiv_Average_Path_Length)"
      ],
      "metadata": {
        "colab": {
          "base_uri": "https://localhost:8080/"
        },
        "id": "RQVQQPjfWs-1",
        "outputId": "788ea628-75ba-4216-b016-261ad1fc8e1e"
      },
      "execution_count": 58,
      "outputs": [
        {
          "output_type": "stream",
          "name": "stdout",
          "text": [
            "1.1333070422535212\n"
          ]
        }
      ]
    },
    {
      "cell_type": "code",
      "source": [
        "%%time\n",
        "sum_value = 0\n",
        "for i in range(1000000):\n",
        "    sum_value += i\n",
        "\n",
        "\n",
        "F_Average_Path_Length=nx.average_shortest_path_length(Football)"
      ],
      "metadata": {
        "colab": {
          "base_uri": "https://localhost:8080/"
        },
        "id": "6h6h4ustKoqi",
        "outputId": "aacbb133-8a01-48cc-ef10-512701c544c0"
      },
      "execution_count": 14,
      "outputs": [
        {
          "output_type": "stream",
          "name": "stdout",
          "text": [
            "CPU times: user 144 ms, sys: 242 µs, total: 144 ms\n",
            "Wall time: 148 ms\n"
          ]
        }
      ]
    },
    {
      "cell_type": "code",
      "source": [
        "print(F_Average_Path_Length)"
      ],
      "metadata": {
        "colab": {
          "base_uri": "https://localhost:8080/"
        },
        "id": "mYZolqz2Ktt7",
        "outputId": "4682482a-a355-4393-dcde-d1dbc7ae13d4"
      },
      "execution_count": 15,
      "outputs": [
        {
          "output_type": "stream",
          "name": "stdout",
          "text": [
            "2.5081617086193746\n"
          ]
        }
      ]
    },
    {
      "cell_type": "code",
      "source": [
        "%%time\n",
        "sum_value = 0\n",
        "for i in range(1000000):\n",
        "    sum_value += i\n",
        "\n",
        "\n",
        "AutoSys_Average_Path_Length=nx.average_shortest_path_length(AutoSys)"
      ],
      "metadata": {
        "colab": {
          "base_uri": "https://localhost:8080/"
        },
        "id": "eU3iWOGFLt6Y",
        "outputId": "49a2acca-67be-4f23-9bc2-adcdc9e0cb03"
      },
      "execution_count": 19,
      "outputs": [
        {
          "output_type": "stream",
          "name": "stdout",
          "text": [
            "CPU times: user 1min 12s, sys: 242 ms, total: 1min 12s\n",
            "Wall time: 1min 14s\n"
          ]
        }
      ]
    },
    {
      "cell_type": "code",
      "source": [
        "print(AutoSys_Average_Path_Length)"
      ],
      "metadata": {
        "colab": {
          "base_uri": "https://localhost:8080/"
        },
        "id": "LVihfJ72Lz2s",
        "outputId": "505fcf6a-e748-4a58-cfbb-1506c091d531"
      },
      "execution_count": 20,
      "outputs": [
        {
          "output_type": "stream",
          "name": "stdout",
          "text": [
            "3.7050034741874245\n"
          ]
        }
      ]
    },
    {
      "cell_type": "markdown",
      "metadata": {
        "id": "w4dw218usswu"
      },
      "source": [
        "**Q**: now make two plots. The first one is about the relationship between the number of nodes in a network and its average path length. Test whether they have a roughly logarithmic relationship $ d \\sim \\log N$ or not. Also explore how the execution time scales with the number of nodes ($|V|$) & the number of edges ($|E|$). Is it proportional to $|V|\\cdot|E|$? "
      ]
    },
    {
      "cell_type": "code",
      "execution_count": 59,
      "metadata": {
        "id": "xXXSnLKhtO8L",
        "colab": {
          "base_uri": "https://localhost:8080/",
          "height": 265
        },
        "outputId": "6b43dc3a-83a0-4f7c-e09e-147f35a5afe9"
      },
      "outputs": [
        {
          "output_type": "display_data",
          "data": {
            "image/png": "[encoded data removed]",
            "text/plain": [
              "<Figure size 432x288 with 1 Axes>"
            ]
          },
          "metadata": {
            "needs_background": "light"
          }
        }
      ],
      "source": [
        "# nodes and avg path length\n",
        "x = [len(AutoSys.nodes), len(Football.nodes), len(David.nodes), len(arxiv.nodes)]\n",
        "y = [AutoSys_Average_Path_Length, F_Average_Path_Length, David_Average_Path_Length, arxiv_Average_Path_Length]\n",
        "\n",
        "plt.scatter(x,y)\n",
        "plt.show()"
      ]
    },
    {
      "cell_type": "code",
      "execution_count": 60,
      "metadata": {
        "id": "sJ0JFmaxeeRM",
        "colab": {
          "base_uri": "https://localhost:8080/",
          "height": 276
        },
        "outputId": "b9825d48-ffae-49ab-cd8e-82636b84c008"
      },
      "outputs": [
        {
          "output_type": "display_data",
          "data": {
            "image/png": "[encoded data removed]",
            "text/plain": [
              "<Figure size 432x288 with 1 Axes>"
            ]
          },
          "metadata": {
            "needs_background": "light"
          }
        }
      ],
      "source": [
        "#time vs nodes and edges\n",
        "\n",
        "#upperbound for time taken based on trials - was unable to complete due to memory and power issues\n",
        "times = [4440, 148, 147, 2340]\n",
        "y = [len(AutoSys.nodes)*AutoSys.number_of_edges(), len(Football.nodes)*Football.number_of_edges(), len(David.nodes)*David.number_of_edges(), len(arxiv.nodes)*arxiv.number_of_edges()]\n",
        "\n",
        "plt.scatter(times,y)\n",
        "plt.show()"
      ]
    },
    {
      "cell_type": "markdown",
      "source": [
        "Yes, 𝑑∼log𝑁 and V is proportional to E according to the graphs above."
      ],
      "metadata": {
        "id": "pjtJ6Wr-buIz"
      }
    },
    {
      "cell_type": "markdown",
      "metadata": {
        "id": "9HfA778OG__L"
      },
      "source": [
        "**Submit both your notebook (.ipynb) and exported (.html) files.**"
      ]
    }
  ],
  "metadata": {
    "anaconda-cloud": {},
    "colab": {
      "collapsed_sections": [],
      "name": "Small_m03_pathlength.ipynb",
      "provenance": []
    },
    "kernelspec": {
      "display_name": "Python 3 (ipykernel)",
      "language": "python",
      "name": "python3"
    },
    "language_info": {
      "codemirror_mode": {
        "name": "ipython",
        "version": 3
      },
      "file_extension": ".py",
      "mimetype": "text/x-python",
      "name": "python",
      "nbconvert_exporter": "python",
      "pygments_lexer": "ipython3",
      "version": "3.9.5"
    },
    "accelerator": "GPU"
  },
  "nbformat": 4,
  "nbformat_minor": 0
}