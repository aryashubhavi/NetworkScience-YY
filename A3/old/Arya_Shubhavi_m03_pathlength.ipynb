{
  "cells": [
    {
      "cell_type": "markdown",
      "metadata": {
        "id": "qZYixNXYvPjf"
      },
      "source": [
        "<table class=\"m01-notebook-buttons\" align=\"left\">\n",
        "  <td>\n",
        "    <a target=\"_blank\" href=\"https://colab.research.google.com/github/yy/netsci-course/blob/master/m03-smallworld/shortest_path_length_distribution.ipynb\"><img src=\"https://www.tensorflow.org/images/colab_logo_32px.png\" />Run in Google Colab</a>\n",
        "  </td>\n",
        "  <td>\n",
        "    <a href=\"https://github.com/yy/netsci-course/blob/master/m03-smallworld/shortest_path_length_distribution.ipynb\"><img src=\"https://www.tensorflow.org/images/GitHub-Mark-32px.png\" />View on Github</a>\n",
        "  </td>\n",
        "</table>"
      ]
    },
    {
      "cell_type": "markdown",
      "metadata": {
        "id": "FvWP-BfRvPjh"
      },
      "source": [
        "# Module 3 Assignment\n",
        "\n",
        "Let's calculate and see the distribution of the path lengths of a graph. First we will generate a random graph which we will use for the assignment."
      ]
    },
    {
      "cell_type": "code",
      "execution_count": 2,
      "metadata": {
        "colab": {
          "base_uri": "https://localhost:8080/"
        },
        "id": "NMSXtVgXvPji",
        "outputId": "5c924964-75b1-45ad-f340-4791e0df6dfe"
      },
      "outputs": [
        {
          "output_type": "stream",
          "name": "stdout",
          "text": [
            "Graph with 1200 nodes and 5769 edges\n"
          ]
        }
      ],
      "source": [
        "# Use this random seed for submission.\n",
        "import random\n",
        "import numpy as np\n",
        "import networkx as nx\n",
        "import matplotlib.pyplot as plt\n",
        "\n",
        "\n",
        "random.seed(42)        \n",
        "np.random.seed(42)\n",
        "\n",
        "random_graph = nx.erdos_renyi_graph(1200, 0.008, seed=42)\n",
        "print(nx.info(random_graph))"
      ]
    },
    {
      "cell_type": "markdown",
      "metadata": {
        "id": "eJmwKPcyvPjj"
      },
      "source": [
        "## Let's write a function to calculate shortest path lengths\n",
        "\n",
        "**Q**: Given a graph and a source node, we can perform the BFS to calculate all shortest paths from the source to all other nodes in the graph. Can you write this function? We are assuming that the network is undirected and unweighted. Test your function with very small examples. \n",
        "\n",
        "If you really can't do it, just use Networkx's [shortest path length function](https://networkx.github.io/documentation/stable/reference/algorithms/generated/networkx.algorithms.shortest_paths.generic.shortest_path_length.html#networkx.algorithms.shortest_paths.generic.shortest_path_length). \n",
        "\n"
      ]
    },
    {
      "cell_type": "code",
      "execution_count": 4,
      "metadata": {
        "colab": {
          "base_uri": "https://localhost:8080/"
        },
        "id": "u_ydAelA50l8",
        "outputId": "6d7fa24b-6a39-4063-d15c-4c48151239c4"
      },
      "outputs": [
        {
          "output_type": "stream",
          "name": "stdout",
          "text": [
            "3\n"
          ]
        }
      ],
      "source": [
        "#with networkx's function\n",
        "shortPathLength = nx.shortest_path_length(random_graph)\n",
        "shortPathLength=dict(shortPathLength)\n",
        "print(shortPathLength[3][14])"
      ]
    },
    {
      "cell_type": "code",
      "execution_count": 5,
      "metadata": {
        "id": "g4Q47kg5vPjj"
      },
      "outputs": [],
      "source": [
        "# Your code here\n",
        "def shortest_path_lengths(G, source):\n",
        "  \"\"\"\n",
        "  computes the shortest path between every pair of node from the source in the graph,\n",
        "  and calculates the length of the shortest path.\n",
        "  Returns a dictionary with path length as value\n",
        "  \"\"\"\n",
        "  l = {}\n",
        "  for end in range(len(G.nodes())):\n",
        "    l[(end)] = len(nx.shortest_path(G,source, end)) - 1\n",
        "  return l\n",
        "\n"
      ]
    },
    {
      "cell_type": "code",
      "execution_count": 6,
      "metadata": {
        "id": "CJsElcKenv89"
      },
      "outputs": [],
      "source": [
        "# The following should be satisfied if the path lengths are calculated correctly. \n",
        "G = nx.Graph()\n",
        "G.add_edges_from([(0, 1), (0,2), (1, 3), (3, 4), (1,4)])\n",
        "assert shortest_path_lengths(G, 0) == {0: 0, 1: 1, 2: 1, 3: 2, 4: 2} "
      ]
    },
    {
      "cell_type": "markdown",
      "metadata": {
        "id": "MwvW4PEQhj33"
      },
      "source": [
        "\n",
        "**Q**: Next, write a function that converts the results into a [`counter`](https://docs.python.org/3/library/collections.html#collections.Counter). For instance, if the result of `shortest_path_lengths()` was `{0: 0, 1: 1, 2: 1, 3: 2, 4: 2}`, then this function will convert this result and return `Counter({0: 1, 1: 2, 2: 2})` because there was one node (`0`) with distance 0, two nodes (`1` and `2`) with distance 1, and two nodes (`3` and `4`) with dstance 2. "
      ]
    },
    {
      "cell_type": "code",
      "execution_count": 7,
      "metadata": {
        "id": "c24vruOimmFN"
      },
      "outputs": [],
      "source": [
        "# Your code here\n",
        "from collections import Counter\n",
        "def count_path_lengths(distances):\n",
        "  c=Counter()\n",
        "  for val in distances.values():\n",
        "    c[val]=list(distances.values()).count(val)\n",
        "  return c\n"
      ]
    },
    {
      "cell_type": "code",
      "execution_count": 7,
      "metadata": {
        "id": "6HqDT4s4n0mt"
      },
      "outputs": [],
      "source": [
        "# this should be satisfied. \n",
        "assert count_path_lengths({0: 0, 1: 1, 2: 1, 3: 2, 4: 2}) == Counter({0: 1, 1: 2, 2: 2})"
      ]
    },
    {
      "cell_type": "markdown",
      "metadata": {
        "id": "eqAXaGblvPjj"
      },
      "source": [
        "**Q**: Now we can compute the path length distribution across all pairs of nodes in a network."
      ]
    },
    {
      "cell_type": "code",
      "execution_count": 8,
      "metadata": {
        "colab": {
          "base_uri": "https://localhost:8080/"
        },
        "id": "6R_NW2f7vPjj",
        "outputId": "7e6a5f04-8018-44ec-876a-def00664d01d"
      },
      "outputs": [
        {
          "output_type": "stream",
          "name": "stdout",
          "text": [
            "{(0, 1): 1, (0, 2): 1, (0, 3): 2, (0, 4): 2, (1, 2): 2, (1, 3): 1, (1, 4): 1, (2, 3): 3, (2, 4): 3, (3, 4): 1}\n",
            "Counter({1: 5, 2: 3, 3: 2})\n"
          ]
        }
      ],
      "source": [
        "# Your code here\n",
        "def shortest_path_length_distribution(mygraph):\n",
        "  \"\"\"\n",
        "  computes the shortest path between every pair of node from the source in the graph,\n",
        "  and calculates the length of the shortest path.\n",
        "  Returns a dictionary with path length as value\n",
        "  \"\"\"\n",
        "  l = {}\n",
        "  for start in range(len(mygraph.nodes())):\n",
        "    for end in range(start+1, len(mygraph.nodes())):\n",
        "      l[(start, end)] = len(nx.shortest_path(mygraph,start, end)) - 1\n",
        "  return l\n",
        "\n",
        "print(shortest_path_length_distribution(G))\n",
        "print(count_path_lengths(shortest_path_length_distribution(G)))"
      ]
    },
    {
      "cell_type": "markdown",
      "metadata": {
        "id": "3rksfTe3vPjk"
      },
      "source": [
        "## Visualizing the results\n",
        "**Q**: Now that you have a list of the shortest paths for the graph, make a histogram for it. This can be done with `matploblib`'s [`bar()`](https://matplotlib.org/stable/api/_as_gen/matplotlib.pyplot.bar.html) function. The following code snippets may be useful. "
      ]
    },
    {
      "cell_type": "code",
      "execution_count": 9,
      "metadata": {
        "colab": {
          "base_uri": "https://localhost:8080/"
        },
        "id": "o8uwvcx0peFD",
        "outputId": "927d0f45-1d3c-44a0-a098-3f66c8c9110e"
      },
      "outputs": [
        {
          "output_type": "execute_result",
          "data": {
            "text/plain": [
              "dict_items([(0, 10), (1, 20), (2, 10), (3, 1)])"
            ]
          },
          "metadata": {},
          "execution_count": 9
        }
      ],
      "source": [
        "a_counter = Counter({0:10, 1:20, 2:10, 3:1})\n",
        "a_counter.items()"
      ]
    },
    {
      "cell_type": "code",
      "execution_count": 10,
      "metadata": {
        "id": "9ErDs0wYpr3G",
        "colab": {
          "base_uri": "https://localhost:8080/"
        },
        "outputId": "c567f893-169f-4ed4-86fb-d21b4be2648a"
      },
      "outputs": [
        {
          "output_type": "execute_result",
          "data": {
            "text/plain": [
              "[(0, 1, 2, 3), (10, 20, 10, 1)]"
            ]
          },
          "metadata": {},
          "execution_count": 10
        }
      ],
      "source": [
        "list(zip(*a_counter.items()))"
      ]
    },
    {
      "cell_type": "code",
      "execution_count": 11,
      "metadata": {
        "id": "tg48ZnacvPjk"
      },
      "outputs": [],
      "source": [
        "# Your code here\n",
        "import matplotlib.pyplot as plt\n"
      ]
    },
    {
      "cell_type": "code",
      "execution_count": 12,
      "metadata": {
        "colab": {
          "base_uri": "https://localhost:8080/",
          "height": 265
        },
        "id": "KxKY3Hc4HDwX",
        "outputId": "4b007295-993a-42b1-ed67-46aea1c6c31f"
      },
      "outputs": [
        {
          "output_type": "display_data",
          "data": {
            "image/png": "[encoded data removed]",
            "text/plain": [
              "<Figure size 432x288 with 1 Axes>"
            ]
          },
          "metadata": {
            "needs_background": "light"
          }
        }
      ],
      "source": [
        "my_path_values = sorted(shortest_path_length_distribution(random_graph).values())\n",
        "pdf, bins, patch = plt.hist(my_path_values, bins=6)"
      ]
    },
    {
      "cell_type": "markdown",
      "metadata": {
        "id": "1Ct7Zr2WqGRC"
      },
      "source": [
        "**Q**: We can now also calculate the average path length of the whole network by averaging the path lengths. "
      ]
    },
    {
      "cell_type": "code",
      "source": [
        "# Your code here\n",
        "my_new_path_values=(sorted(shortest_path_length_distribution(G).values()))"
      ],
      "metadata": {
        "id": "cnZGXbUke7cW"
      },
      "execution_count": 13,
      "outputs": []
    },
    {
      "cell_type": "code",
      "execution_count": null,
      "metadata": {
        "colab": {
          "base_uri": "https://localhost:8080/",
          "height": 201
        },
        "id": "zWFWD7XnqLbX",
        "outputId": "da4e55f2-a2dd-47f3-ce34-89c8bed631ce"
      },
      "outputs": [
        {
          "data": {
            "text/plain": [
              "1.7"
            ]
          },
          "execution_count": 12,
          "metadata": {},
          "output_type": "execute_result"
        }
      ],
      "source": [
        "\n",
        "sum(my_new_path_values) / len(my_new_path_values)"
      ]
    },
    {
      "cell_type": "markdown",
      "metadata": {
        "id": "XzgjpnW-ryMd"
      },
      "source": [
        "Can you make it as a function? "
      ]
    },
    {
      "cell_type": "code",
      "execution_count": 14,
      "metadata": {
        "colab": {
          "base_uri": "https://localhost:8080/"
        },
        "id": "pJmoIEurvPjl",
        "outputId": "5e46581b-f454-4816-e96a-8abf4c70b59a"
      },
      "outputs": [
        {
          "output_type": "stream",
          "name": "stdout",
          "text": [
            "3.390095913261051\n",
            "1.7\n"
          ]
        }
      ],
      "source": [
        "# Your code here\n",
        "def avg_path_length(path_length_counter):\n",
        "  cnt = 0\n",
        "  sum = 0\n",
        "  for val in path_length_counter:\n",
        "    cnt=cnt+1\n",
        "    sum = sum+val\n",
        "  return sum/cnt\n",
        "\n",
        "print(avg_path_length(my_path_values)) ## for random_graph\n",
        "print(avg_path_length(my_new_path_values)) ## for G\n"
      ]
    },
    {
      "cell_type": "markdown",
      "metadata": {
        "id": "793_3mbNdxwu"
      },
      "source": [
        "## How does it scale?\n",
        "\n",
        "Now go to https://icon.colorado.edu/#!/ and download multiple (at least three) networks that span a range of scale. For instance, pick a couple of networks with ~1000 nodes and then ~10000 nodes, and so on. Be careful with large networks! Calculating shortest paths is an expensive computation and it may take too much time! Stick with not-so-large and not-too-small networks, but do experiment how far you can push. \n",
        "\n",
        "**Q**: Using your code above, calculate the average path length of each network. While doing so, also measure how long it takes to compute the result using either `%%time` or `%%timeit` magics. `%%timeit` runs the code multiple times to get a better estimate. So it may not be suitable for large networks. \n"
      ]
    },
    {
      "cell_type": "code",
      "source": [
        "slash = open(\"slash.txt\", \"rb\") # http://snap.stanford.edu/data/soc-Slashdot0811.html\n",
        "SlashDot = nx.read_edgelist(slash)\n",
        "slash.close()"
      ],
      "metadata": {
        "id": "CJqq-ucdqZ6t"
      },
      "execution_count": 34,
      "outputs": []
    },
    {
      "cell_type": "code",
      "source": [
        "print(nx.info(SlashDot))"
      ],
      "metadata": {
        "colab": {
          "base_uri": "https://localhost:8080/"
        },
        "id": "-T9TbEkFq_MR",
        "outputId": "c5a9a794-91f9-46b0-b67c-4460bf4bc042"
      },
      "execution_count": 35,
      "outputs": [
        {
          "output_type": "stream",
          "name": "stdout",
          "text": [
            "Graph with 77360 nodes and 546487 edges\n"
          ]
        }
      ]
    },
    {
      "cell_type": "code",
      "execution_count": 21,
      "metadata": {
        "id": "B0DBVRtweeRL"
      },
      "outputs": [],
      "source": [
        "asy = open(\"as1.txt\", \"rb\") # http://snap.stanford.edu/data/as.html\n",
        "AutoSys =nx.read_edgelist(asy, nodetype=int)\n",
        "asy.close()"
      ]
    },
    {
      "cell_type": "code",
      "execution_count": 22,
      "metadata": {
        "id": "4NbwCiBzSSqu",
        "colab": {
          "base_uri": "https://localhost:8080/"
        },
        "outputId": "f4ff7864-eb57-44f0-eba7-4ab4e1fa482e"
      },
      "outputs": [
        {
          "output_type": "stream",
          "name": "stdout",
          "text": [
            "Graph with 6474 nodes and 13895 edges\n"
          ]
        }
      ],
      "source": [
        "print(nx.info(AutoSys))"
      ]
    },
    {
      "cell_type": "code",
      "source": [
        "em = open(\"email.txt\", \"rb\") #http://snap.stanford.edu/data/email-EuAll.html\n",
        "Email=nx.read_edgelist(em, nodetype=int)\n",
        "em.close() "
      ],
      "metadata": {
        "id": "HZW0nEoDtTjW"
      },
      "execution_count": 37,
      "outputs": []
    },
    {
      "cell_type": "code",
      "source": [
        "print(nx.info(Email))"
      ],
      "metadata": {
        "colab": {
          "base_uri": "https://localhost:8080/"
        },
        "id": "J8oSVL_xtorK",
        "outputId": "1ee56419-e822-4f56-b948-24c3fe355d15"
      },
      "execution_count": 38,
      "outputs": [
        {
          "output_type": "stream",
          "name": "stdout",
          "text": [
            "Graph with 265214 nodes and 365570 edges\n"
          ]
        }
      ]
    },
    {
      "cell_type": "code",
      "source": [
        "nor = open(\"net1m.txt\", \"rb\") # http://www.boardsandgender.com/data.php\n",
        "Norwegian=nx.read_edgelist(nor, nodetype=int)\n",
        "nor.close()"
      ],
      "metadata": {
        "id": "9VWnl2kufVSu"
      },
      "execution_count": 28,
      "outputs": []
    },
    {
      "cell_type": "code",
      "execution_count": 29,
      "metadata": {
        "id": "gGZ9AjeiS223",
        "colab": {
          "base_uri": "https://localhost:8080/"
        },
        "outputId": "4b659847-2e22-4e87-a04b-de24425f73f3"
      },
      "outputs": [
        {
          "output_type": "stream",
          "name": "stdout",
          "text": [
            "Graph with 1013 nodes and 3189 edges\n"
          ]
        }
      ],
      "source": [
        "print(nx.info(Norwegian))"
      ]
    },
    {
      "cell_type": "code",
      "execution_count": null,
      "metadata": {
        "id": "-2AahtobeeCj"
      },
      "outputs": [],
      "source": [
        "%%timeit\n",
        "sum_value = 0\n",
        "for i in range(1000000):\n",
        "    sum_value += i\n",
        "  "
      ]
    },
    {
      "cell_type": "code",
      "execution_count": 24,
      "metadata": {
        "colab": {
          "base_uri": "https://localhost:8080/"
        },
        "id": "2T98g9Vnsozd",
        "outputId": "8542981d-3f92-48d0-9c48-6fde981de218"
      },
      "outputs": [
        {
          "output_type": "stream",
          "name": "stdout",
          "text": [
            "CPU times: user 1min 27s, sys: 773 ms, total: 1min 28s\n",
            "Wall time: 1min 33s\n"
          ]
        }
      ],
      "source": [
        "%%time\n",
        "sum_value = 0\n",
        "for i in range(1000000):\n",
        "    sum_value += i\n",
        "\n",
        "\n",
        "AutoSys_Average_Path_Length=nx.average_shortest_path_length(AutoSys)"
      ]
    },
    {
      "cell_type": "code",
      "source": [
        "print(AutoSys_Average_Path_Length)"
      ],
      "metadata": {
        "colab": {
          "base_uri": "https://localhost:8080/"
        },
        "id": "ugYQuRbEmSOa",
        "outputId": "6d7dc656-b25b-4dc8-d6f6-b4cfca9f5566"
      },
      "execution_count": 26,
      "outputs": [
        {
          "output_type": "stream",
          "name": "stdout",
          "text": [
            "3.7050034741874245\n"
          ]
        }
      ]
    },
    {
      "cell_type": "code",
      "source": [
        "%%time\n",
        "sum_value = 0\n",
        "for i in range(1000000):\n",
        "    sum_value += i\n",
        "\n",
        "\n",
        "Email_Average_Path_Length=nx.average_shortest_path_length(Email)"
      ],
      "metadata": {
        "id": "DsOFAv21wWIX"
      },
      "execution_count": null,
      "outputs": []
    },
    {
      "cell_type": "code",
      "source": [
        "%%time\n",
        "sum_value = 0\n",
        "for i in range(1000000):\n",
        "    sum_value += i\n",
        "\n",
        "\n",
        "Norwegian_Average_Path_Length=nx.average_shortest_path_length(Norwegian)"
      ],
      "metadata": {
        "colab": {
          "base_uri": "https://localhost:8080/",
          "height": 398
        },
        "id": "bTYMqNpPl9ZW",
        "outputId": "25e0da9d-6994-4b38-c0e1-4a7b2fce0f42"
      },
      "execution_count": 52,
      "outputs": [
        {
          "output_type": "error",
          "ename": "NetworkXError",
          "evalue": "ignored",
          "traceback": [
            "\u001b[0;31m---------------------------------------------------------------------------\u001b[0m",
            "\u001b[0;31mNetworkXError\u001b[0m                             Traceback (most recent call last)",
            "\u001b[0;32m<ipython-input-52-805f1b530fb1>\u001b[0m in \u001b[0;36m<module>\u001b[0;34m()\u001b[0m\n\u001b[0;32m----> 1\u001b[0;31m \u001b[0mget_ipython\u001b[0m\u001b[0;34m(\u001b[0m\u001b[0;34m)\u001b[0m\u001b[0;34m.\u001b[0m\u001b[0mrun_cell_magic\u001b[0m\u001b[0;34m(\u001b[0m\u001b[0;34m'time'\u001b[0m\u001b[0;34m,\u001b[0m \u001b[0;34m''\u001b[0m\u001b[0;34m,\u001b[0m \u001b[0;34m'sum_value = 0\\nfor i in range(1000000):\\n    sum_value += i\\n\\n\\nNorwegian_Average_Path_Length=nx.average_shortest_path_length(Norwegian)'\u001b[0m\u001b[0;34m)\u001b[0m\u001b[0;34m\u001b[0m\u001b[0;34m\u001b[0m\u001b[0m\n\u001b[0m",
            "\u001b[0;32m/usr/local/lib/python3.7/dist-packages/IPython/core/interactiveshell.py\u001b[0m in \u001b[0;36mrun_cell_magic\u001b[0;34m(self, magic_name, line, cell)\u001b[0m\n\u001b[1;32m   2115\u001b[0m             \u001b[0mmagic_arg_s\u001b[0m \u001b[0;34m=\u001b[0m \u001b[0mself\u001b[0m\u001b[0;34m.\u001b[0m\u001b[0mvar_expand\u001b[0m\u001b[0;34m(\u001b[0m\u001b[0mline\u001b[0m\u001b[0;34m,\u001b[0m \u001b[0mstack_depth\u001b[0m\u001b[0;34m)\u001b[0m\u001b[0;34m\u001b[0m\u001b[0;34m\u001b[0m\u001b[0m\n\u001b[1;32m   2116\u001b[0m             \u001b[0;32mwith\u001b[0m \u001b[0mself\u001b[0m\u001b[0;34m.\u001b[0m\u001b[0mbuiltin_trap\u001b[0m\u001b[0;34m:\u001b[0m\u001b[0;34m\u001b[0m\u001b[0;34m\u001b[0m\u001b[0m\n\u001b[0;32m-> 2117\u001b[0;31m                 \u001b[0mresult\u001b[0m \u001b[0;34m=\u001b[0m \u001b[0mfn\u001b[0m\u001b[0;34m(\u001b[0m\u001b[0mmagic_arg_s\u001b[0m\u001b[0;34m,\u001b[0m \u001b[0mcell\u001b[0m\u001b[0;34m)\u001b[0m\u001b[0;34m\u001b[0m\u001b[0;34m\u001b[0m\u001b[0m\n\u001b[0m\u001b[1;32m   2118\u001b[0m             \u001b[0;32mreturn\u001b[0m \u001b[0mresult\u001b[0m\u001b[0;34m\u001b[0m\u001b[0;34m\u001b[0m\u001b[0m\n\u001b[1;32m   2119\u001b[0m \u001b[0;34m\u001b[0m\u001b[0m\n",
            "\u001b[0;32m<decorator-gen-53>\u001b[0m in \u001b[0;36mtime\u001b[0;34m(self, line, cell, local_ns)\u001b[0m\n",
            "\u001b[0;32m/usr/local/lib/python3.7/dist-packages/IPython/core/magic.py\u001b[0m in \u001b[0;36m<lambda>\u001b[0;34m(f, *a, **k)\u001b[0m\n\u001b[1;32m    186\u001b[0m     \u001b[0;31m# but it's overkill for just that one bit of state.\u001b[0m\u001b[0;34m\u001b[0m\u001b[0;34m\u001b[0m\u001b[0;34m\u001b[0m\u001b[0m\n\u001b[1;32m    187\u001b[0m     \u001b[0;32mdef\u001b[0m \u001b[0mmagic_deco\u001b[0m\u001b[0;34m(\u001b[0m\u001b[0marg\u001b[0m\u001b[0;34m)\u001b[0m\u001b[0;34m:\u001b[0m\u001b[0;34m\u001b[0m\u001b[0;34m\u001b[0m\u001b[0m\n\u001b[0;32m--> 188\u001b[0;31m         \u001b[0mcall\u001b[0m \u001b[0;34m=\u001b[0m \u001b[0;32mlambda\u001b[0m \u001b[0mf\u001b[0m\u001b[0;34m,\u001b[0m \u001b[0;34m*\u001b[0m\u001b[0ma\u001b[0m\u001b[0;34m,\u001b[0m \u001b[0;34m**\u001b[0m\u001b[0mk\u001b[0m\u001b[0;34m:\u001b[0m \u001b[0mf\u001b[0m\u001b[0;34m(\u001b[0m\u001b[0;34m*\u001b[0m\u001b[0ma\u001b[0m\u001b[0;34m,\u001b[0m \u001b[0;34m**\u001b[0m\u001b[0mk\u001b[0m\u001b[0;34m)\u001b[0m\u001b[0;34m\u001b[0m\u001b[0;34m\u001b[0m\u001b[0m\n\u001b[0m\u001b[1;32m    189\u001b[0m \u001b[0;34m\u001b[0m\u001b[0m\n\u001b[1;32m    190\u001b[0m         \u001b[0;32mif\u001b[0m \u001b[0mcallable\u001b[0m\u001b[0;34m(\u001b[0m\u001b[0marg\u001b[0m\u001b[0;34m)\u001b[0m\u001b[0;34m:\u001b[0m\u001b[0;34m\u001b[0m\u001b[0;34m\u001b[0m\u001b[0m\n",
            "\u001b[0;32m/usr/local/lib/python3.7/dist-packages/IPython/core/magics/execution.py\u001b[0m in \u001b[0;36mtime\u001b[0;34m(self, line, cell, local_ns)\u001b[0m\n\u001b[1;32m   1191\u001b[0m         \u001b[0;32melse\u001b[0m\u001b[0;34m:\u001b[0m\u001b[0;34m\u001b[0m\u001b[0;34m\u001b[0m\u001b[0m\n\u001b[1;32m   1192\u001b[0m             \u001b[0mst\u001b[0m \u001b[0;34m=\u001b[0m \u001b[0mclock2\u001b[0m\u001b[0;34m(\u001b[0m\u001b[0;34m)\u001b[0m\u001b[0;34m\u001b[0m\u001b[0;34m\u001b[0m\u001b[0m\n\u001b[0;32m-> 1193\u001b[0;31m             \u001b[0mexec\u001b[0m\u001b[0;34m(\u001b[0m\u001b[0mcode\u001b[0m\u001b[0;34m,\u001b[0m \u001b[0mglob\u001b[0m\u001b[0;34m,\u001b[0m \u001b[0mlocal_ns\u001b[0m\u001b[0;34m)\u001b[0m\u001b[0;34m\u001b[0m\u001b[0;34m\u001b[0m\u001b[0m\n\u001b[0m\u001b[1;32m   1194\u001b[0m             \u001b[0mend\u001b[0m \u001b[0;34m=\u001b[0m \u001b[0mclock2\u001b[0m\u001b[0;34m(\u001b[0m\u001b[0;34m)\u001b[0m\u001b[0;34m\u001b[0m\u001b[0;34m\u001b[0m\u001b[0m\n\u001b[1;32m   1195\u001b[0m             \u001b[0mout\u001b[0m \u001b[0;34m=\u001b[0m \u001b[0;32mNone\u001b[0m\u001b[0;34m\u001b[0m\u001b[0;34m\u001b[0m\u001b[0m\n",
            "\u001b[0;32m<timed exec>\u001b[0m in \u001b[0;36m<module>\u001b[0;34m()\u001b[0m\n",
            "\u001b[0;32m/usr/local/lib/python3.7/dist-packages/networkx/algorithms/shortest_paths/generic.py\u001b[0m in \u001b[0;36maverage_shortest_path_length\u001b[0;34m(G, weight, method)\u001b[0m\n\u001b[1;32m    387\u001b[0m         \u001b[0;32mraise\u001b[0m \u001b[0mnx\u001b[0m\u001b[0;34m.\u001b[0m\u001b[0mNetworkXError\u001b[0m\u001b[0;34m(\u001b[0m\u001b[0;34m\"Graph is not weakly connected.\"\u001b[0m\u001b[0;34m)\u001b[0m\u001b[0;34m\u001b[0m\u001b[0;34m\u001b[0m\u001b[0m\n\u001b[1;32m    388\u001b[0m     \u001b[0;32mif\u001b[0m \u001b[0;32mnot\u001b[0m \u001b[0mG\u001b[0m\u001b[0;34m.\u001b[0m\u001b[0mis_directed\u001b[0m\u001b[0;34m(\u001b[0m\u001b[0;34m)\u001b[0m \u001b[0;32mand\u001b[0m \u001b[0;32mnot\u001b[0m \u001b[0mnx\u001b[0m\u001b[0;34m.\u001b[0m\u001b[0mis_connected\u001b[0m\u001b[0;34m(\u001b[0m\u001b[0mG\u001b[0m\u001b[0;34m)\u001b[0m\u001b[0;34m:\u001b[0m\u001b[0;34m\u001b[0m\u001b[0;34m\u001b[0m\u001b[0m\n\u001b[0;32m--> 389\u001b[0;31m         \u001b[0;32mraise\u001b[0m \u001b[0mnx\u001b[0m\u001b[0;34m.\u001b[0m\u001b[0mNetworkXError\u001b[0m\u001b[0;34m(\u001b[0m\u001b[0;34m\"Graph is not connected.\"\u001b[0m\u001b[0;34m)\u001b[0m\u001b[0;34m\u001b[0m\u001b[0;34m\u001b[0m\u001b[0m\n\u001b[0m\u001b[1;32m    390\u001b[0m \u001b[0;34m\u001b[0m\u001b[0m\n\u001b[1;32m    391\u001b[0m     \u001b[0;31m# Compute all-pairs shortest paths.\u001b[0m\u001b[0;34m\u001b[0m\u001b[0;34m\u001b[0m\u001b[0;34m\u001b[0m\u001b[0m\n",
            "\u001b[0;31mNetworkXError\u001b[0m: Graph is not connected."
          ]
        }
      ]
    },
    {
      "cell_type": "code",
      "source": [
        "for C in (Norwegian.subgraph(c).copy() for c in nx.connected_components(Norwegian)):\n",
        "    print(nx.average_shortest_path_length(C))"
      ],
      "metadata": {
        "id": "D9Ie2weUwJqX"
      },
      "execution_count": null,
      "outputs": []
    },
    {
      "cell_type": "code",
      "source": [
        "for C in (SlashDot.subgraph(c).copy() for c in nx.connected_components(SlashDot)):\n",
        "    print(nx.average_shortest_path_length(C))"
      ],
      "metadata": {
        "id": "oKYTuTWYwNu6"
      },
      "execution_count": null,
      "outputs": []
    },
    {
      "cell_type": "markdown",
      "metadata": {
        "id": "w4dw218usswu"
      },
      "source": [
        "**Q**: now make two plots. The first one is about the relationship between the number of nodes in a network and its average path length. Test whether they have a roughly logarithmic relationship $ d \\sim \\log N$ or not. Also explore how the execution time scales with the number of nodes ($|V|$) & the number of edges ($|E|$). Is it proportional to $|V|\\cdot|E|$? "
      ]
    },
    {
      "cell_type": "code",
      "execution_count": null,
      "metadata": {
        "id": "xXXSnLKhtO8L"
      },
      "outputs": [],
      "source": [
        "# nodes and avg path length\n",
        "x = [len(SlashDot.nodes), len(Norwegian.nodes), len(AutoSys.nodes), len(Email.nodes)]\n",
        "y = [nx.average_shortest_path_length(SlashDot), nx.average_shortest_path_length(Norwegian), nx.average_shortest_path_length(AutoSys), nx.average_shortest_path_negth(Email)]\n",
        "\n",
        "plt.scatter(x,y)\n",
        "plt.show()"
      ]
    },
    {
      "cell_type": "code",
      "execution_count": null,
      "metadata": {
        "id": "sJ0JFmaxeeRM"
      },
      "outputs": [],
      "source": [
        "#time vs nodes and edges\n",
        "\n",
        "#upperbound for time taken based on trials - was unable to complete due to memory and power issues\n",
        "times = [88, 800, 1000, 1000]\n",
        "y = [len(SlashDot.nodes)*SlashDot.number_of_edges(), len(Norwegian.nodes)*Norwegian.number_of_edges(), len(AutoSys.nodes)*Autosys.number_of_edges(), len(Email.nodes)*Email.number_of_edges()]\n",
        "\n",
        "plt.scatter(times,y)\n",
        "plt.show()"
      ]
    },
    {
      "cell_type": "markdown",
      "metadata": {
        "id": "9HfA778OG__L"
      },
      "source": [
        "**Submit both your notebook (.ipynb) and exported (.html) files.**"
      ]
    }
  ],
  "metadata": {
    "anaconda-cloud": {},
    "colab": {
      "collapsed_sections": [],
      "name": "Arya_Shubhavi_m03_pathlength.ipynb",
      "provenance": []
    },
    "kernelspec": {
      "display_name": "Python 3 (ipykernel)",
      "language": "python",
      "name": "python3"
    },
    "language_info": {
      "codemirror_mode": {
        "name": "ipython",
        "version": 3
      },
      "file_extension": ".py",
      "mimetype": "text/x-python",
      "name": "python",
      "nbconvert_exporter": "python",
      "pygments_lexer": "ipython3",
      "version": "3.9.5"
    }
  },
  "nbformat": 4,
  "nbformat_minor": 0
}