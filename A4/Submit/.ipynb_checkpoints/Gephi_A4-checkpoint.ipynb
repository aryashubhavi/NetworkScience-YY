{
 "cells": [
  {
   "cell_type": "code",
   "execution_count": 1,
   "metadata": {
    "id": "6Z7v9ge3ObdO"
   },
   "outputs": [],
   "source": [
    "import networkx as nx"
   ]
  },
  {
   "cell_type": "code",
   "execution_count": 8,
   "metadata": {
    "colab": {
     "base_uri": "https://localhost:8080/"
    },
    "id": "uaXqL6BoOwYz",
    "outputId": "4a85d580-0e74-4fc5-a71a-f361e726d324"
   },
   "outputs": [
    {
     "name": "stdout",
     "output_type": "stream",
     "text": [
      "Graph with 77 nodes and 247 edges\n"
     ]
    }
   ],
   "source": [
    "averageDegree = 6.597\n",
    "nodesNum = 77\n",
    "p = averageDegree/(nodesNum-1)\n",
    "myrandomgraph = nx.erdos_renyi_graph(77, p, seed=42, directed=False)\n",
    "print(nx.info(myrandomgraph))"
   ]
  },
  {
   "cell_type": "code",
   "execution_count": 9,
   "metadata": {
    "id": "MzeQo_GIQhPJ"
   },
   "outputs": [],
   "source": [
    "filename = \"random.gml\"\n",
    "nx.write_gml(myrandomgraph, filename)"
   ]
  }
 ],
 "metadata": {
  "colab": {
   "name": "Gephi-A4.ipynb",
   "provenance": []
  },
  "kernelspec": {
   "display_name": "Python 3 (ipykernel)",
   "language": "python",
   "name": "python3"
  },
  "language_info": {
   "codemirror_mode": {
    "name": "ipython",
    "version": 3
   },
   "file_extension": ".py",
   "mimetype": "text/x-python",
   "name": "python",
   "nbconvert_exporter": "python",
   "pygments_lexer": "ipython3",
   "version": "3.9.5"
  }
 },
 "nbformat": 4,
 "nbformat_minor": 1
}
